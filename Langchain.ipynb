{
 "cells": [
  {
   "cell_type": "code",
   "execution_count": 6,
   "id": "14ad796f-feab-46f6-8d9e-128e56aad8e2",
   "metadata": {},
   "outputs": [
    {
     "name": "stdout",
     "output_type": "stream",
     "text": [
      "Requirement already satisfied: langchain in c:\\projects\\ai-ml-learning\\venv\\lib\\site-packages (0.2.1)\n",
      "Requirement already satisfied: PyYAML>=5.3 in c:\\projects\\ai-ml-learning\\venv\\lib\\site-packages (from langchain) (6.0.1)\n",
      "Requirement already satisfied: SQLAlchemy<3,>=1.4 in c:\\projects\\ai-ml-learning\\venv\\lib\\site-packages (from langchain) (2.0.30)\n",
      "Requirement already satisfied: aiohttp<4.0.0,>=3.8.3 in c:\\projects\\ai-ml-learning\\venv\\lib\\site-packages (from langchain) (3.9.5)\n",
      "Requirement already satisfied: langchain-core<0.3.0,>=0.2.0 in c:\\projects\\ai-ml-learning\\venv\\lib\\site-packages (from langchain) (0.2.1)\n",
      "Requirement already satisfied: langchain-text-splitters<0.3.0,>=0.2.0 in c:\\projects\\ai-ml-learning\\venv\\lib\\site-packages (from langchain) (0.2.0)\n",
      "Requirement already satisfied: langsmith<0.2.0,>=0.1.17 in c:\\projects\\ai-ml-learning\\venv\\lib\\site-packages (from langchain) (0.1.63)\n",
      "Requirement already satisfied: numpy<2,>=1 in c:\\projects\\ai-ml-learning\\venv\\lib\\site-packages (from langchain) (1.26.4)\n",
      "Requirement already satisfied: pydantic<3,>=1 in c:\\projects\\ai-ml-learning\\venv\\lib\\site-packages (from langchain) (2.7.1)\n",
      "Requirement already satisfied: requests<3,>=2 in c:\\projects\\ai-ml-learning\\venv\\lib\\site-packages (from langchain) (2.31.0)\n",
      "Requirement already satisfied: tenacity<9.0.0,>=8.1.0 in c:\\projects\\ai-ml-learning\\venv\\lib\\site-packages (from langchain) (8.3.0)\n",
      "Requirement already satisfied: aiosignal>=1.1.2 in c:\\projects\\ai-ml-learning\\venv\\lib\\site-packages (from aiohttp<4.0.0,>=3.8.3->langchain) (1.3.1)\n",
      "Requirement already satisfied: attrs>=17.3.0 in c:\\projects\\ai-ml-learning\\venv\\lib\\site-packages (from aiohttp<4.0.0,>=3.8.3->langchain) (23.2.0)\n",
      "Requirement already satisfied: frozenlist>=1.1.1 in c:\\projects\\ai-ml-learning\\venv\\lib\\site-packages (from aiohttp<4.0.0,>=3.8.3->langchain) (1.4.1)\n",
      "Requirement already satisfied: multidict<7.0,>=4.5 in c:\\projects\\ai-ml-learning\\venv\\lib\\site-packages (from aiohttp<4.0.0,>=3.8.3->langchain) (6.0.5)\n",
      "Requirement already satisfied: yarl<2.0,>=1.0 in c:\\projects\\ai-ml-learning\\venv\\lib\\site-packages (from aiohttp<4.0.0,>=3.8.3->langchain) (1.9.4)\n",
      "Requirement already satisfied: jsonpatch<2.0,>=1.33 in c:\\projects\\ai-ml-learning\\venv\\lib\\site-packages (from langchain-core<0.3.0,>=0.2.0->langchain) (1.33)\n",
      "Requirement already satisfied: packaging<24.0,>=23.2 in c:\\projects\\ai-ml-learning\\venv\\lib\\site-packages (from langchain-core<0.3.0,>=0.2.0->langchain) (23.2)\n",
      "Requirement already satisfied: orjson<4.0.0,>=3.9.14 in c:\\projects\\ai-ml-learning\\venv\\lib\\site-packages (from langsmith<0.2.0,>=0.1.17->langchain) (3.10.3)\n",
      "Requirement already satisfied: annotated-types>=0.4.0 in c:\\projects\\ai-ml-learning\\venv\\lib\\site-packages (from pydantic<3,>=1->langchain) (0.6.0)\n",
      "Requirement already satisfied: pydantic-core==2.18.2 in c:\\projects\\ai-ml-learning\\venv\\lib\\site-packages (from pydantic<3,>=1->langchain) (2.18.2)\n",
      "Requirement already satisfied: typing-extensions>=4.6.1 in c:\\projects\\ai-ml-learning\\venv\\lib\\site-packages (from pydantic<3,>=1->langchain) (4.11.0)\n",
      "Requirement already satisfied: charset-normalizer<4,>=2 in c:\\projects\\ai-ml-learning\\venv\\lib\\site-packages (from requests<3,>=2->langchain) (3.3.2)\n",
      "Requirement already satisfied: idna<4,>=2.5 in c:\\projects\\ai-ml-learning\\venv\\lib\\site-packages (from requests<3,>=2->langchain) (3.7)\n",
      "Requirement already satisfied: urllib3<3,>=1.21.1 in c:\\projects\\ai-ml-learning\\venv\\lib\\site-packages (from requests<3,>=2->langchain) (2.2.1)\n",
      "Requirement already satisfied: certifi>=2017.4.17 in c:\\projects\\ai-ml-learning\\venv\\lib\\site-packages (from requests<3,>=2->langchain) (2024.2.2)\n",
      "Requirement already satisfied: greenlet!=0.4.17 in c:\\projects\\ai-ml-learning\\venv\\lib\\site-packages (from SQLAlchemy<3,>=1.4->langchain) (3.0.3)\n",
      "Requirement already satisfied: jsonpointer>=1.9 in c:\\projects\\ai-ml-learning\\venv\\lib\\site-packages (from jsonpatch<2.0,>=1.33->langchain-core<0.3.0,>=0.2.0->langchain) (2.4)\n",
      "Collecting langchain_cohere\n",
      "  Downloading langchain_cohere-0.1.5-py3-none-any.whl.metadata (6.4 kB)\n",
      "Collecting cohere<6.0,>=5.5 (from langchain_cohere)\n",
      "  Downloading cohere-5.5.3-py3-none-any.whl.metadata (3.6 kB)\n",
      "Requirement already satisfied: langchain-core<0.3,>=0.1.42 in c:\\projects\\ai-ml-learning\\venv\\lib\\site-packages (from langchain_cohere) (0.2.1)\n",
      "Collecting boto3<2.0.0,>=1.34.0 (from cohere<6.0,>=5.5->langchain_cohere)\n",
      "  Downloading boto3-1.34.113-py3-none-any.whl.metadata (6.6 kB)\n",
      "Collecting fastavro<2.0.0,>=1.9.4 (from cohere<6.0,>=5.5->langchain_cohere)\n",
      "  Downloading fastavro-1.9.4-cp311-cp311-win_amd64.whl.metadata (5.7 kB)\n",
      "Requirement already satisfied: httpx>=0.21.2 in c:\\projects\\ai-ml-learning\\venv\\lib\\site-packages (from cohere<6.0,>=5.5->langchain_cohere) (0.27.0)\n",
      "Collecting httpx-sse<0.5.0,>=0.4.0 (from cohere<6.0,>=5.5->langchain_cohere)\n",
      "  Downloading httpx_sse-0.4.0-py3-none-any.whl.metadata (9.0 kB)\n",
      "Requirement already satisfied: pydantic>=1.9.2 in c:\\projects\\ai-ml-learning\\venv\\lib\\site-packages (from cohere<6.0,>=5.5->langchain_cohere) (2.7.1)\n",
      "Requirement already satisfied: requests<3.0.0,>=2.0.0 in c:\\projects\\ai-ml-learning\\venv\\lib\\site-packages (from cohere<6.0,>=5.5->langchain_cohere) (2.31.0)\n",
      "Requirement already satisfied: tokenizers<0.20,>=0.19 in c:\\projects\\ai-ml-learning\\venv\\lib\\site-packages (from cohere<6.0,>=5.5->langchain_cohere) (0.19.1)\n",
      "Collecting types-requests<3.0.0,>=2.0.0 (from cohere<6.0,>=5.5->langchain_cohere)\n",
      "  Downloading types_requests-2.32.0.20240523-py3-none-any.whl.metadata (1.8 kB)\n",
      "Requirement already satisfied: typing_extensions>=4.0.0 in c:\\projects\\ai-ml-learning\\venv\\lib\\site-packages (from cohere<6.0,>=5.5->langchain_cohere) (4.11.0)\n",
      "Requirement already satisfied: PyYAML>=5.3 in c:\\projects\\ai-ml-learning\\venv\\lib\\site-packages (from langchain-core<0.3,>=0.1.42->langchain_cohere) (6.0.1)\n",
      "Requirement already satisfied: jsonpatch<2.0,>=1.33 in c:\\projects\\ai-ml-learning\\venv\\lib\\site-packages (from langchain-core<0.3,>=0.1.42->langchain_cohere) (1.33)\n",
      "Requirement already satisfied: langsmith<0.2.0,>=0.1.0 in c:\\projects\\ai-ml-learning\\venv\\lib\\site-packages (from langchain-core<0.3,>=0.1.42->langchain_cohere) (0.1.63)\n",
      "Requirement already satisfied: packaging<24.0,>=23.2 in c:\\projects\\ai-ml-learning\\venv\\lib\\site-packages (from langchain-core<0.3,>=0.1.42->langchain_cohere) (23.2)\n",
      "Requirement already satisfied: tenacity<9.0.0,>=8.1.0 in c:\\projects\\ai-ml-learning\\venv\\lib\\site-packages (from langchain-core<0.3,>=0.1.42->langchain_cohere) (8.3.0)\n",
      "Collecting botocore<1.35.0,>=1.34.113 (from boto3<2.0.0,>=1.34.0->cohere<6.0,>=5.5->langchain_cohere)\n",
      "  Downloading botocore-1.34.113-py3-none-any.whl.metadata (5.7 kB)\n",
      "Collecting jmespath<2.0.0,>=0.7.1 (from boto3<2.0.0,>=1.34.0->cohere<6.0,>=5.5->langchain_cohere)\n",
      "  Downloading jmespath-1.0.1-py3-none-any.whl.metadata (7.6 kB)\n",
      "Collecting s3transfer<0.11.0,>=0.10.0 (from boto3<2.0.0,>=1.34.0->cohere<6.0,>=5.5->langchain_cohere)\n",
      "  Downloading s3transfer-0.10.1-py3-none-any.whl.metadata (1.7 kB)\n",
      "Requirement already satisfied: anyio in c:\\projects\\ai-ml-learning\\venv\\lib\\site-packages (from httpx>=0.21.2->cohere<6.0,>=5.5->langchain_cohere) (4.3.0)\n",
      "Requirement already satisfied: certifi in c:\\projects\\ai-ml-learning\\venv\\lib\\site-packages (from httpx>=0.21.2->cohere<6.0,>=5.5->langchain_cohere) (2024.2.2)\n",
      "Requirement already satisfied: httpcore==1.* in c:\\projects\\ai-ml-learning\\venv\\lib\\site-packages (from httpx>=0.21.2->cohere<6.0,>=5.5->langchain_cohere) (1.0.5)\n",
      "Requirement already satisfied: idna in c:\\projects\\ai-ml-learning\\venv\\lib\\site-packages (from httpx>=0.21.2->cohere<6.0,>=5.5->langchain_cohere) (3.7)\n",
      "Requirement already satisfied: sniffio in c:\\projects\\ai-ml-learning\\venv\\lib\\site-packages (from httpx>=0.21.2->cohere<6.0,>=5.5->langchain_cohere) (1.3.1)\n",
      "Requirement already satisfied: h11<0.15,>=0.13 in c:\\projects\\ai-ml-learning\\venv\\lib\\site-packages (from httpcore==1.*->httpx>=0.21.2->cohere<6.0,>=5.5->langchain_cohere) (0.14.0)\n",
      "Requirement already satisfied: jsonpointer>=1.9 in c:\\projects\\ai-ml-learning\\venv\\lib\\site-packages (from jsonpatch<2.0,>=1.33->langchain-core<0.3,>=0.1.42->langchain_cohere) (2.4)\n",
      "Requirement already satisfied: orjson<4.0.0,>=3.9.14 in c:\\projects\\ai-ml-learning\\venv\\lib\\site-packages (from langsmith<0.2.0,>=0.1.0->langchain-core<0.3,>=0.1.42->langchain_cohere) (3.10.3)\n",
      "Requirement already satisfied: annotated-types>=0.4.0 in c:\\projects\\ai-ml-learning\\venv\\lib\\site-packages (from pydantic>=1.9.2->cohere<6.0,>=5.5->langchain_cohere) (0.6.0)\n",
      "Requirement already satisfied: pydantic-core==2.18.2 in c:\\projects\\ai-ml-learning\\venv\\lib\\site-packages (from pydantic>=1.9.2->cohere<6.0,>=5.5->langchain_cohere) (2.18.2)\n",
      "Requirement already satisfied: charset-normalizer<4,>=2 in c:\\projects\\ai-ml-learning\\venv\\lib\\site-packages (from requests<3.0.0,>=2.0.0->cohere<6.0,>=5.5->langchain_cohere) (3.3.2)\n",
      "Requirement already satisfied: urllib3<3,>=1.21.1 in c:\\projects\\ai-ml-learning\\venv\\lib\\site-packages (from requests<3.0.0,>=2.0.0->cohere<6.0,>=5.5->langchain_cohere) (2.2.1)\n",
      "Requirement already satisfied: huggingface-hub<1.0,>=0.16.4 in c:\\projects\\ai-ml-learning\\venv\\lib\\site-packages (from tokenizers<0.20,>=0.19->cohere<6.0,>=5.5->langchain_cohere) (0.23.0)\n",
      "Requirement already satisfied: python-dateutil<3.0.0,>=2.1 in c:\\projects\\ai-ml-learning\\venv\\lib\\site-packages (from botocore<1.35.0,>=1.34.113->boto3<2.0.0,>=1.34.0->cohere<6.0,>=5.5->langchain_cohere) (2.9.0.post0)\n",
      "Requirement already satisfied: filelock in c:\\projects\\ai-ml-learning\\venv\\lib\\site-packages (from huggingface-hub<1.0,>=0.16.4->tokenizers<0.20,>=0.19->cohere<6.0,>=5.5->langchain_cohere) (3.14.0)\n",
      "Requirement already satisfied: fsspec>=2023.5.0 in c:\\projects\\ai-ml-learning\\venv\\lib\\site-packages (from huggingface-hub<1.0,>=0.16.4->tokenizers<0.20,>=0.19->cohere<6.0,>=5.5->langchain_cohere) (2024.3.1)\n",
      "Requirement already satisfied: tqdm>=4.42.1 in c:\\projects\\ai-ml-learning\\venv\\lib\\site-packages (from huggingface-hub<1.0,>=0.16.4->tokenizers<0.20,>=0.19->cohere<6.0,>=5.5->langchain_cohere) (4.66.4)\n",
      "Requirement already satisfied: six>=1.5 in c:\\projects\\ai-ml-learning\\venv\\lib\\site-packages (from python-dateutil<3.0.0,>=2.1->botocore<1.35.0,>=1.34.113->boto3<2.0.0,>=1.34.0->cohere<6.0,>=5.5->langchain_cohere) (1.16.0)\n",
      "Requirement already satisfied: colorama in c:\\projects\\ai-ml-learning\\venv\\lib\\site-packages (from tqdm>=4.42.1->huggingface-hub<1.0,>=0.16.4->tokenizers<0.20,>=0.19->cohere<6.0,>=5.5->langchain_cohere) (0.4.6)\n",
      "Downloading langchain_cohere-0.1.5-py3-none-any.whl (30 kB)\n",
      "Downloading cohere-5.5.3-py3-none-any.whl (166 kB)\n",
      "   ---------------------------------------- 0.0/166.6 kB ? eta -:--:--\n",
      "   ---------------------------------------- 166.6/166.6 kB 5.0 MB/s eta 0:00:00\n",
      "Downloading boto3-1.34.113-py3-none-any.whl (139 kB)\n",
      "   ---------------------------------------- 0.0/139.3 kB ? eta -:--:--\n",
      "   ---------------------------------------- 139.3/139.3 kB 8.6 MB/s eta 0:00:00\n",
      "Downloading fastavro-1.9.4-cp311-cp311-win_amd64.whl (499 kB)\n",
      "   ---------------------------------------- 0.0/499.4 kB ? eta -:--:--\n",
      "   ------------------------------------ --- 460.8/499.4 kB 9.8 MB/s eta 0:00:01\n",
      "   --------------------------------------- 499.4/499.4 kB 10.6 MB/s eta 0:00:00\n",
      "Downloading httpx_sse-0.4.0-py3-none-any.whl (7.8 kB)\n",
      "Downloading types_requests-2.32.0.20240523-py3-none-any.whl (15 kB)\n",
      "Downloading botocore-1.34.113-py3-none-any.whl (12.3 MB)\n",
      "   ---------------------------------------- 0.0/12.3 MB ? eta -:--:--\n",
      "   - -------------------------------------- 0.3/12.3 MB 18.6 MB/s eta 0:00:01\n",
      "   --- ------------------------------------ 1.0/12.3 MB 12.1 MB/s eta 0:00:01\n",
      "   ---- ----------------------------------- 1.4/12.3 MB 11.1 MB/s eta 0:00:01\n",
      "   ----- ---------------------------------- 1.8/12.3 MB 10.5 MB/s eta 0:00:01\n",
      "   -------- ------------------------------- 2.6/12.3 MB 11.9 MB/s eta 0:00:01\n",
      "   ---------- ----------------------------- 3.2/12.3 MB 11.9 MB/s eta 0:00:01\n",
      "   ------------ --------------------------- 3.7/12.3 MB 11.9 MB/s eta 0:00:01\n",
      "   ------------- -------------------------- 4.3/12.3 MB 11.8 MB/s eta 0:00:01\n",
      "   --------------- ------------------------ 4.8/12.3 MB 11.9 MB/s eta 0:00:01\n",
      "   ----------------- ---------------------- 5.4/12.3 MB 11.8 MB/s eta 0:00:01\n",
      "   ------------------- -------------------- 5.9/12.3 MB 11.8 MB/s eta 0:00:01\n",
      "   --------------------- ------------------ 6.5/12.3 MB 11.8 MB/s eta 0:00:01\n",
      "   --------------------- ------------------ 6.7/12.3 MB 11.7 MB/s eta 0:00:01\n",
      "   ------------------------ --------------- 7.6/12.3 MB 11.8 MB/s eta 0:00:01\n",
      "   -------------------------- ------------- 8.1/12.3 MB 11.8 MB/s eta 0:00:01\n",
      "   ---------------------------- ----------- 8.7/12.3 MB 11.8 MB/s eta 0:00:01\n",
      "   ------------------------------ --------- 9.2/12.3 MB 11.8 MB/s eta 0:00:01\n",
      "   ------------------------------- -------- 9.8/12.3 MB 11.8 MB/s eta 0:00:01\n",
      "   --------------------------------- ------ 10.3/12.3 MB 11.7 MB/s eta 0:00:01\n",
      "   ----------------------------------- ---- 10.9/12.3 MB 11.9 MB/s eta 0:00:01\n",
      "   ------------------------------------- -- 11.4/12.3 MB 11.9 MB/s eta 0:00:01\n",
      "   ---------------------------------------  12.0/12.3 MB 12.1 MB/s eta 0:00:01\n",
      "   ---------------------------------------  12.3/12.3 MB 12.1 MB/s eta 0:00:01\n",
      "   ---------------------------------------- 12.3/12.3 MB 11.7 MB/s eta 0:00:00\n",
      "Downloading jmespath-1.0.1-py3-none-any.whl (20 kB)\n",
      "Downloading s3transfer-0.10.1-py3-none-any.whl (82 kB)\n",
      "   ---------------------------------------- 0.0/82.2 kB ? eta -:--:--\n",
      "   ---------------------------------------- 82.2/82.2 kB ? eta 0:00:00\n",
      "Installing collected packages: types-requests, jmespath, httpx-sse, fastavro, botocore, s3transfer, boto3, cohere, langchain_cohere\n",
      "Successfully installed boto3-1.34.113 botocore-1.34.113 cohere-5.5.3 fastavro-1.9.4 httpx-sse-0.4.0 jmespath-1.0.1 langchain_cohere-0.1.5 s3transfer-0.10.1 types-requests-2.32.0.20240523\n"
     ]
    }
   ],
   "source": [
    "!pip install langchain\n",
    "!pip install langchain_cohere "
   ]
  },
  {
   "cell_type": "code",
   "execution_count": 3,
   "id": "dfdbc872-a5a4-4f9a-bc0d-ecdc767b4cb1",
   "metadata": {},
   "outputs": [],
   "source": [
    "from dotenv import load_dotenv\n",
    "import os"
   ]
  },
  {
   "cell_type": "code",
   "execution_count": 4,
   "id": "4e453d43-1b0d-4a34-8bbe-a6289b16855c",
   "metadata": {},
   "outputs": [
    {
     "data": {
      "text/plain": [
       "True"
      ]
     },
     "execution_count": 4,
     "metadata": {},
     "output_type": "execute_result"
    }
   ],
   "source": [
    "load_dotenv()"
   ]
  },
  {
   "cell_type": "code",
   "execution_count": 15,
   "id": "a7af65a6-3971-439e-a5e7-1ffdce394d79",
   "metadata": {},
   "outputs": [],
   "source": [
    "from langchain_cohere import ChatCohere\n",
    "from langchain_core.messages import HumanMessage, SystemMessage"
   ]
  },
  {
   "cell_type": "code",
   "execution_count": 17,
   "id": "91f11259-7ab6-463a-9b5d-1680d61d2025",
   "metadata": {},
   "outputs": [],
   "source": [
    "LANGCHAIN_TRACING_V2 = True"
   ]
  },
  {
   "cell_type": "code",
   "execution_count": 9,
   "id": "4b1c515f-5832-4cb9-ab3f-d0d9b421f068",
   "metadata": {},
   "outputs": [
    {
     "ename": "NameError",
     "evalue": "name 'OpenAI' is not defined",
     "output_type": "error",
     "traceback": [
      "\u001b[1;31m---------------------------------------------------------------------------\u001b[0m",
      "\u001b[1;31mNameError\u001b[0m                                 Traceback (most recent call last)",
      "Cell \u001b[1;32mIn[9], line 1\u001b[0m\n\u001b[1;32m----> 1\u001b[0m llm \u001b[38;5;241m=\u001b[39m \u001b[43mOpenAI\u001b[49m(api_key\u001b[38;5;241m=\u001b[39mos\u001b[38;5;241m.\u001b[39menviron[\u001b[38;5;124m'\u001b[39m\u001b[38;5;124mOPEN_AI_KEY\u001b[39m\u001b[38;5;124m'\u001b[39m])\n",
      "\u001b[1;31mNameError\u001b[0m: name 'OpenAI' is not defined"
     ]
    }
   ],
   "source": [
    "llm = OpenAI(api_key=os.environ['OPEN_AI_KEY'])"
   ]
  },
  {
   "cell_type": "code",
   "execution_count": 18,
   "id": "59f200df-3de4-4c71-9646-941d054b7bfb",
   "metadata": {},
   "outputs": [],
   "source": [
    "chat = ChatCohere(model=\"command\")"
   ]
  },
  {
   "cell_type": "code",
   "execution_count": 19,
   "id": "16a190af-b739-4847-8004-8e8c7a0920aa",
   "metadata": {},
   "outputs": [
    {
     "name": "stdout",
     "output_type": "stream",
     "text": [
      "content='LOL is an acronym for Laugh out Loud. It is often used in text messaging to indicate that the person finds something humorous or funny. \\n\\nDid you find something funny? I can provide you with some jokes if you like!' additional_kwargs={'documents': None, 'citations': None, 'search_results': None, 'search_queries': None, 'is_search_required': None, 'generation_id': 'c2a574ef-0c05-4075-ba5f-66e1b81ad784', 'token_count': {'input_tokens': 64, 'output_tokens': 47}} response_metadata={'documents': None, 'citations': None, 'search_results': None, 'search_queries': None, 'is_search_required': None, 'generation_id': 'c2a574ef-0c05-4075-ba5f-66e1b81ad784', 'token_count': {'input_tokens': 64, 'output_tokens': 47}} id='run-8b81cf8a-5b94-4caf-a870-786fbdb93db8-0'\n"
     ]
    }
   ],
   "source": [
    "messages = [HumanMessage(content=\"LOL!!\")]\n",
    "print(chat.invoke(messages))"
   ]
  },
  {
   "cell_type": "code",
   "execution_count": null,
   "id": "f9babcc4-fc30-4fd5-a79e-3ddc5bfd7b65",
   "metadata": {},
   "outputs": [],
   "source": []
  }
 ],
 "metadata": {
  "kernelspec": {
   "display_name": "Python 3 (ipykernel)",
   "language": "python",
   "name": "python3"
  },
  "language_info": {
   "codemirror_mode": {
    "name": "ipython",
    "version": 3
   },
   "file_extension": ".py",
   "mimetype": "text/x-python",
   "name": "python",
   "nbconvert_exporter": "python",
   "pygments_lexer": "ipython3",
   "version": "3.11.5"
  }
 },
 "nbformat": 4,
 "nbformat_minor": 5
}
