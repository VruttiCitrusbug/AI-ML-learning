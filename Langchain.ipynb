{
 "cells": [
  {
   "cell_type": "code",
   "execution_count": 17,
   "id": "14ad796f-feab-46f6-8d9e-128e56aad8e2",
   "metadata": {},
   "outputs": [
    {
     "name": "stdout",
     "output_type": "stream",
     "text": [
      "Requirement already satisfied: langchain_openai in c:\\projects\\ai-ml-learning\\venv\\lib\\site-packages (0.1.7)\n",
      "Requirement already satisfied: langchain-core<0.3,>=0.1.46 in c:\\projects\\ai-ml-learning\\venv\\lib\\site-packages (from langchain_openai) (0.2.1)\n",
      "Requirement already satisfied: openai<2.0.0,>=1.24.0 in c:\\projects\\ai-ml-learning\\venv\\lib\\site-packages (from langchain_openai) (1.30.3)\n",
      "Requirement already satisfied: tiktoken<1,>=0.7 in c:\\projects\\ai-ml-learning\\venv\\lib\\site-packages (from langchain_openai) (0.7.0)\n",
      "Requirement already satisfied: PyYAML>=5.3 in c:\\projects\\ai-ml-learning\\venv\\lib\\site-packages (from langchain-core<0.3,>=0.1.46->langchain_openai) (6.0.1)\n",
      "Requirement already satisfied: jsonpatch<2.0,>=1.33 in c:\\projects\\ai-ml-learning\\venv\\lib\\site-packages (from langchain-core<0.3,>=0.1.46->langchain_openai) (1.33)\n",
      "Requirement already satisfied: langsmith<0.2.0,>=0.1.0 in c:\\projects\\ai-ml-learning\\venv\\lib\\site-packages (from langchain-core<0.3,>=0.1.46->langchain_openai) (0.1.63)\n",
      "Requirement already satisfied: packaging<24.0,>=23.2 in c:\\projects\\ai-ml-learning\\venv\\lib\\site-packages (from langchain-core<0.3,>=0.1.46->langchain_openai) (23.2)\n",
      "Requirement already satisfied: pydantic<3,>=1 in c:\\projects\\ai-ml-learning\\venv\\lib\\site-packages (from langchain-core<0.3,>=0.1.46->langchain_openai) (2.7.1)\n",
      "Requirement already satisfied: tenacity<9.0.0,>=8.1.0 in c:\\projects\\ai-ml-learning\\venv\\lib\\site-packages (from langchain-core<0.3,>=0.1.46->langchain_openai) (8.3.0)\n",
      "Requirement already satisfied: anyio<5,>=3.5.0 in c:\\projects\\ai-ml-learning\\venv\\lib\\site-packages (from openai<2.0.0,>=1.24.0->langchain_openai) (4.3.0)\n",
      "Requirement already satisfied: distro<2,>=1.7.0 in c:\\projects\\ai-ml-learning\\venv\\lib\\site-packages (from openai<2.0.0,>=1.24.0->langchain_openai) (1.9.0)\n",
      "Requirement already satisfied: httpx<1,>=0.23.0 in c:\\projects\\ai-ml-learning\\venv\\lib\\site-packages (from openai<2.0.0,>=1.24.0->langchain_openai) (0.27.0)\n",
      "Requirement already satisfied: sniffio in c:\\projects\\ai-ml-learning\\venv\\lib\\site-packages (from openai<2.0.0,>=1.24.0->langchain_openai) (1.3.1)\n",
      "Requirement already satisfied: tqdm>4 in c:\\projects\\ai-ml-learning\\venv\\lib\\site-packages (from openai<2.0.0,>=1.24.0->langchain_openai) (4.66.4)\n",
      "Requirement already satisfied: typing-extensions<5,>=4.7 in c:\\projects\\ai-ml-learning\\venv\\lib\\site-packages (from openai<2.0.0,>=1.24.0->langchain_openai) (4.11.0)\n",
      "Requirement already satisfied: regex>=2022.1.18 in c:\\projects\\ai-ml-learning\\venv\\lib\\site-packages (from tiktoken<1,>=0.7->langchain_openai) (2024.5.10)\n",
      "Requirement already satisfied: requests>=2.26.0 in c:\\projects\\ai-ml-learning\\venv\\lib\\site-packages (from tiktoken<1,>=0.7->langchain_openai) (2.31.0)\n",
      "Requirement already satisfied: idna>=2.8 in c:\\projects\\ai-ml-learning\\venv\\lib\\site-packages (from anyio<5,>=3.5.0->openai<2.0.0,>=1.24.0->langchain_openai) (3.7)\n",
      "Requirement already satisfied: certifi in c:\\projects\\ai-ml-learning\\venv\\lib\\site-packages (from httpx<1,>=0.23.0->openai<2.0.0,>=1.24.0->langchain_openai) (2024.2.2)\n",
      "Requirement already satisfied: httpcore==1.* in c:\\projects\\ai-ml-learning\\venv\\lib\\site-packages (from httpx<1,>=0.23.0->openai<2.0.0,>=1.24.0->langchain_openai) (1.0.5)\n",
      "Requirement already satisfied: h11<0.15,>=0.13 in c:\\projects\\ai-ml-learning\\venv\\lib\\site-packages (from httpcore==1.*->httpx<1,>=0.23.0->openai<2.0.0,>=1.24.0->langchain_openai) (0.14.0)\n",
      "Requirement already satisfied: jsonpointer>=1.9 in c:\\projects\\ai-ml-learning\\venv\\lib\\site-packages (from jsonpatch<2.0,>=1.33->langchain-core<0.3,>=0.1.46->langchain_openai) (2.4)\n",
      "Requirement already satisfied: orjson<4.0.0,>=3.9.14 in c:\\projects\\ai-ml-learning\\venv\\lib\\site-packages (from langsmith<0.2.0,>=0.1.0->langchain-core<0.3,>=0.1.46->langchain_openai) (3.10.3)\n",
      "Requirement already satisfied: annotated-types>=0.4.0 in c:\\projects\\ai-ml-learning\\venv\\lib\\site-packages (from pydantic<3,>=1->langchain-core<0.3,>=0.1.46->langchain_openai) (0.6.0)\n",
      "Requirement already satisfied: pydantic-core==2.18.2 in c:\\projects\\ai-ml-learning\\venv\\lib\\site-packages (from pydantic<3,>=1->langchain-core<0.3,>=0.1.46->langchain_openai) (2.18.2)\n",
      "Requirement already satisfied: charset-normalizer<4,>=2 in c:\\projects\\ai-ml-learning\\venv\\lib\\site-packages (from requests>=2.26.0->tiktoken<1,>=0.7->langchain_openai) (3.3.2)\n",
      "Requirement already satisfied: urllib3<3,>=1.21.1 in c:\\projects\\ai-ml-learning\\venv\\lib\\site-packages (from requests>=2.26.0->tiktoken<1,>=0.7->langchain_openai) (2.2.1)\n",
      "Requirement already satisfied: colorama in c:\\projects\\ai-ml-learning\\venv\\lib\\site-packages (from tqdm>4->openai<2.0.0,>=1.24.0->langchain_openai) (0.4.6)\n",
      "Requirement already satisfied: langchain_core in c:\\projects\\ai-ml-learning\\venv\\lib\\site-packages (0.2.1)\n",
      "Requirement already satisfied: PyYAML>=5.3 in c:\\projects\\ai-ml-learning\\venv\\lib\\site-packages (from langchain_core) (6.0.1)\n",
      "Requirement already satisfied: jsonpatch<2.0,>=1.33 in c:\\projects\\ai-ml-learning\\venv\\lib\\site-packages (from langchain_core) (1.33)\n",
      "Requirement already satisfied: langsmith<0.2.0,>=0.1.0 in c:\\projects\\ai-ml-learning\\venv\\lib\\site-packages (from langchain_core) (0.1.63)\n",
      "Requirement already satisfied: packaging<24.0,>=23.2 in c:\\projects\\ai-ml-learning\\venv\\lib\\site-packages (from langchain_core) (23.2)\n",
      "Requirement already satisfied: pydantic<3,>=1 in c:\\projects\\ai-ml-learning\\venv\\lib\\site-packages (from langchain_core) (2.7.1)\n",
      "Requirement already satisfied: tenacity<9.0.0,>=8.1.0 in c:\\projects\\ai-ml-learning\\venv\\lib\\site-packages (from langchain_core) (8.3.0)\n",
      "Requirement already satisfied: jsonpointer>=1.9 in c:\\projects\\ai-ml-learning\\venv\\lib\\site-packages (from jsonpatch<2.0,>=1.33->langchain_core) (2.4)\n",
      "Requirement already satisfied: orjson<4.0.0,>=3.9.14 in c:\\projects\\ai-ml-learning\\venv\\lib\\site-packages (from langsmith<0.2.0,>=0.1.0->langchain_core) (3.10.3)\n",
      "Requirement already satisfied: requests<3,>=2 in c:\\projects\\ai-ml-learning\\venv\\lib\\site-packages (from langsmith<0.2.0,>=0.1.0->langchain_core) (2.31.0)\n",
      "Requirement already satisfied: annotated-types>=0.4.0 in c:\\projects\\ai-ml-learning\\venv\\lib\\site-packages (from pydantic<3,>=1->langchain_core) (0.6.0)\n",
      "Requirement already satisfied: pydantic-core==2.18.2 in c:\\projects\\ai-ml-learning\\venv\\lib\\site-packages (from pydantic<3,>=1->langchain_core) (2.18.2)\n",
      "Requirement already satisfied: typing-extensions>=4.6.1 in c:\\projects\\ai-ml-learning\\venv\\lib\\site-packages (from pydantic<3,>=1->langchain_core) (4.11.0)\n",
      "Requirement already satisfied: charset-normalizer<4,>=2 in c:\\projects\\ai-ml-learning\\venv\\lib\\site-packages (from requests<3,>=2->langsmith<0.2.0,>=0.1.0->langchain_core) (3.3.2)\n",
      "Requirement already satisfied: idna<4,>=2.5 in c:\\projects\\ai-ml-learning\\venv\\lib\\site-packages (from requests<3,>=2->langsmith<0.2.0,>=0.1.0->langchain_core) (3.7)\n",
      "Requirement already satisfied: urllib3<3,>=1.21.1 in c:\\projects\\ai-ml-learning\\venv\\lib\\site-packages (from requests<3,>=2->langsmith<0.2.0,>=0.1.0->langchain_core) (2.2.1)\n",
      "Requirement already satisfied: certifi>=2017.4.17 in c:\\projects\\ai-ml-learning\\venv\\lib\\site-packages (from requests<3,>=2->langsmith<0.2.0,>=0.1.0->langchain_core) (2024.2.2)\n"
     ]
    }
   ],
   "source": [
    "!pip install langchain_openai\n",
    "!pip install langchain_core"
   ]
  },
  {
   "cell_type": "code",
   "execution_count": 5,
   "id": "dfdbc872-a5a4-4f9a-bc0d-ecdc767b4cb1",
   "metadata": {},
   "outputs": [],
   "source": [
    "from dotenv import load_dotenv\n",
    "import os"
   ]
  },
  {
   "cell_type": "code",
   "execution_count": 6,
   "id": "4e453d43-1b0d-4a34-8bbe-a6289b16855c",
   "metadata": {},
   "outputs": [
    {
     "data": {
      "text/plain": [
       "True"
      ]
     },
     "execution_count": 6,
     "metadata": {},
     "output_type": "execute_result"
    }
   ],
   "source": [
    "load_dotenv()"
   ]
  },
  {
   "cell_type": "code",
   "execution_count": 19,
   "id": "a7af65a6-3971-439e-a5e7-1ffdce394d79",
   "metadata": {},
   "outputs": [],
   "source": [
    "from langchain_core.prompts import PromptTemplate\n",
    "from langchain_openai import OpenAI"
   ]
  },
  {
   "cell_type": "code",
   "execution_count": 20,
   "id": "91f11259-7ab6-463a-9b5d-1680d61d2025",
   "metadata": {},
   "outputs": [],
   "source": [
    "template = \"\"\"Question: {question}\n",
    "\n",
    "Answer: Let's think step by step.\"\"\"\n",
    "\n",
    "prompt = PromptTemplate.from_template(template)"
   ]
  },
  {
   "cell_type": "code",
   "execution_count": 24,
   "id": "4b1c515f-5832-4cb9-ab3f-d0d9b421f068",
   "metadata": {},
   "outputs": [],
   "source": [
    "llm = OpenAI(api_key=os.environ['OPEN_AI_KEY'])"
   ]
  },
  {
   "cell_type": "code",
   "execution_count": null,
   "id": "59f200df-3de4-4c71-9646-941d054b7bfb",
   "metadata": {},
   "outputs": [],
   "source": []
  }
 ],
 "metadata": {
  "kernelspec": {
   "display_name": "Python 3 (ipykernel)",
   "language": "python",
   "name": "python3"
  },
  "language_info": {
   "codemirror_mode": {
    "name": "ipython",
    "version": 3
   },
   "file_extension": ".py",
   "mimetype": "text/x-python",
   "name": "python",
   "nbconvert_exporter": "python",
   "pygments_lexer": "ipython3",
   "version": "3.11.5"
  }
 },
 "nbformat": 4,
 "nbformat_minor": 5
}
