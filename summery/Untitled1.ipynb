{
 "cells": [
  {
   "cell_type": "code",
   "execution_count": 1,
   "id": "9c0781f7-cf54-4a94-a069-dbcfc754cd8f",
   "metadata": {},
   "outputs": [
    {
     "name": "stdout",
     "output_type": "stream",
     "text": [
      "Requirement already satisfied: requests in c:\\projects\\ai-ml-learning\\venv\\lib\\site-packages (2.32.3)\n",
      "Requirement already satisfied: charset-normalizer<4,>=2 in c:\\projects\\ai-ml-learning\\venv\\lib\\site-packages (from requests) (3.3.2)\n",
      "Requirement already satisfied: idna<4,>=2.5 in c:\\projects\\ai-ml-learning\\venv\\lib\\site-packages (from requests) (3.7)\n",
      "Requirement already satisfied: urllib3<3,>=1.21.1 in c:\\projects\\ai-ml-learning\\venv\\lib\\site-packages (from requests) (2.2.1)\n",
      "Requirement already satisfied: certifi>=2017.4.17 in c:\\projects\\ai-ml-learning\\venv\\lib\\site-packages (from requests) (2024.2.2)\n",
      "Note: you may need to restart the kernel to use updated packages.\n"
     ]
    }
   ],
   "source": [
    "pip install requests"
   ]
  },
  {
   "cell_type": "code",
   "execution_count": 2,
   "id": "73aa5f6b-07b9-4363-9caa-7308ed9db130",
   "metadata": {},
   "outputs": [],
   "source": [
    "import requests\n",
    "from dotenv import load_dotenv\n",
    "import os"
   ]
  },
  {
   "cell_type": "code",
   "execution_count": 4,
   "id": "b2e2fca3-120b-464f-b8bd-070a327b61a9",
   "metadata": {},
   "outputs": [
    {
     "data": {
      "text/plain": [
       "True"
      ]
     },
     "execution_count": 4,
     "metadata": {},
     "output_type": "execute_result"
    }
   ],
   "source": [
    "load_dotenv()"
   ]
  },
  {
   "cell_type": "code",
   "execution_count": 9,
   "id": "60dc4f82-6def-4d70-a719-be01e847b7c4",
   "metadata": {},
   "outputs": [],
   "source": [
    "api_key = os.environ['REV_API_KEY']\n",
    "file_path = 'C:\\Projects\\AI-ML-learning\\summery\\harvard.wav'\n",
    "url = 'https://api.rev.ai/speechtotext/v1/jobs'"
   ]
  },
  {
   "cell_type": "code",
   "execution_count": 10,
   "id": "54991aa7-94b1-4a24-adc3-9fd1b5d7cd67",
   "metadata": {},
   "outputs": [
    {
     "name": "stdout",
     "output_type": "stream",
     "text": [
      "{'id': 'gHpGVIgnknUXvAGP', 'created_on': '2024-06-17T12:51:55.221Z', 'name': 'harvard.wav', 'status': 'in_progress', 'type': 'async', 'language': 'en'}\n"
     ]
    }
   ],
   "source": [
    "headers = {\n",
    "    'Authorization': f'Bearer {api_key}',\n",
    "}\n",
    "\n",
    "files = {\n",
    "    'media': open(file_path, 'rb'),\n",
    "}\n",
    "\n",
    "data = {\n",
    "    'metadata': 'optional metadata',\n",
    "}\n",
    "\n",
    "response = requests.post(url, headers=headers, files=files, data=data)\n",
    "print(response.json())"
   ]
  },
  {
   "cell_type": "code",
   "execution_count": 11,
   "id": "e74ef135-50ab-4dee-9c62-b5310dc51422",
   "metadata": {},
   "outputs": [
    {
     "name": "stdout",
     "output_type": "stream",
     "text": [
      "{'id': 'gHpGVIgnknUXvAGP', 'created_on': '2024-06-17T12:51:55.221Z', 'completed_on': '2024-06-17T12:52:03.187Z', 'name': 'harvard.wav', 'status': 'transcribed', 'duration_seconds': 18.36, 'type': 'async', 'language': 'en'}\n"
     ]
    }
   ],
   "source": [
    "job_id = 'gHpGVIgnknUXvAGP'\n",
    "\n",
    "status_url = f'https://api.rev.ai/speechtotext/v1/jobs/{job_id}'\n",
    "response = requests.get(status_url, headers=headers)\n",
    "print(response.json())"
   ]
  },
  {
   "cell_type": "code",
   "execution_count": 13,
   "id": "33ef3b03-6469-44aa-b1fa-dec6df4b21e0",
   "metadata": {},
   "outputs": [
    {
     "name": "stdout",
     "output_type": "stream",
     "text": [
      "{'monologues': [{'speaker': 0, 'elements': [{'type': 'text', 'value': 'The', 'ts': 1.345, 'end_ts': 1.565, 'confidence': 0.99}, {'type': 'punct', 'value': ' '}, {'type': 'text', 'value': 'stale', 'ts': 1.575, 'end_ts': 1.925, 'confidence': 0.99}, {'type': 'punct', 'value': ' '}, {'type': 'text', 'value': 'smell', 'ts': 1.925, 'end_ts': 2.245, 'confidence': 0.99}, {'type': 'punct', 'value': ' '}, {'type': 'text', 'value': 'of', 'ts': 2.265, 'end_ts': 2.485, 'confidence': 0.99}, {'type': 'punct', 'value': ' '}, {'type': 'text', 'value': 'old', 'ts': 2.545, 'end_ts': 2.765, 'confidence': 0.99}, {'type': 'punct', 'value': ' '}, {'type': 'text', 'value': 'beer', 'ts': 2.765, 'end_ts': 3.045, 'confidence': 0.99}, {'type': 'punct', 'value': ' '}, {'type': 'text', 'value': 'lingers', 'ts': 3.075, 'end_ts': 3.565, 'confidence': 0.99}, {'type': 'punct', 'value': '.'}, {'type': 'punct', 'value': ' '}]}, {'speaker': 1, 'elements': [{'type': 'text', 'value': 'It', 'ts': 4.385, 'end_ts': 4.605, 'confidence': 0.99}, {'type': 'punct', 'value': ' '}, {'type': 'text', 'value': 'takes', 'ts': 4.605, 'end_ts': 4.805, 'confidence': 0.99}, {'type': 'punct', 'value': ' '}, {'type': 'text', 'value': 'heat', 'ts': 4.835, 'end_ts': 5.125, 'confidence': 0.99}, {'type': 'punct', 'value': ' '}, {'type': 'text', 'value': 'to', 'ts': 5.145, 'end_ts': 5.365, 'confidence': 0.99}, {'type': 'punct', 'value': ' '}, {'type': 'text', 'value': 'bring', 'ts': 5.365, 'end_ts': 5.605, 'confidence': 0.99}, {'type': 'punct', 'value': ' '}, {'type': 'text', 'value': 'out', 'ts': 5.605, 'end_ts': 5.805, 'confidence': 0.99}, {'type': 'punct', 'value': ' '}, {'type': 'text', 'value': 'the', 'ts': 5.805, 'end_ts': 5.925, 'confidence': 0.99}, {'type': 'punct', 'value': ' '}, {'type': 'text', 'value': 'odor', 'ts': 6.085, 'end_ts': 6.325, 'confidence': 0.99}, {'type': 'punct', 'value': '.'}, {'type': 'punct', 'value': ' '}]}, {'speaker': 0, 'elements': [{'type': 'text', 'value': 'A', 'ts': 7.125, 'end_ts': 7.245, 'confidence': 0.99}, {'type': 'punct', 'value': ' '}, {'type': 'text', 'value': 'cold', 'ts': 7.245, 'end_ts': 7.485, 'confidence': 0.99}, {'type': 'punct', 'value': ' '}, {'type': 'text', 'value': 'dip', 'ts': 7.585, 'end_ts': 7.805, 'confidence': 0.99}, {'type': 'punct', 'value': ' '}, {'type': 'text', 'value': 'restores', 'ts': 7.965, 'end_ts': 8.525, 'confidence': 0.99}, {'type': 'punct', 'value': ' '}, {'type': 'text', 'value': 'health', 'ts': 8.525, 'end_ts': 8.725, 'confidence': 0.99}, {'type': 'punct', 'value': ' '}, {'type': 'text', 'value': 'and', 'ts': 8.785, 'end_ts': 9.005, 'confidence': 0.91}, {'type': 'punct', 'value': ' '}, {'type': 'text', 'value': 'zest', 'ts': 9.165, 'end_ts': 9.445, 'confidence': 0.99}, {'type': 'punct', 'value': ' '}]}, {'speaker': 1, 'elements': [{'type': 'text', 'value': 'A', 'ts': 10.045, 'end_ts': 10.165, 'confidence': 0.99}, {'type': 'punct', 'value': ' '}, {'type': 'text', 'value': 'salt', 'ts': 10.195, 'end_ts': 10.485, 'confidence': 0.99}, {'type': 'punct', 'value': ' '}, {'type': 'text', 'value': 'pickle', 'ts': 10.485, 'end_ts': 10.805, 'confidence': 0.99}, {'type': 'punct', 'value': '.'}, {'type': 'punct', 'value': ' '}, {'type': 'text', 'value': 'Tastes', 'ts': 10.905, 'end_ts': 11.325, 'confidence': 0.99}, {'type': 'punct', 'value': ' '}, {'type': 'text', 'value': 'fine', 'ts': 11.325, 'end_ts': 11.565, 'confidence': 0.99}, {'type': 'punct', 'value': ' '}, {'type': 'text', 'value': 'with', 'ts': 11.565, 'end_ts': 11.765, 'confidence': 0.99}, {'type': 'punct', 'value': ' '}, {'type': 'text', 'value': 'ham', 'ts': 11.885, 'end_ts': 12.005, 'confidence': 0.99}, {'type': 'punct', 'value': ' '}]}, {'speaker': 0, 'elements': [{'type': 'text', 'value': 'Tacos', 'ts': 12.695, 'end_ts': 13.045, 'confidence': 0.99}, {'type': 'punct', 'value': ','}, {'type': 'punct', 'value': ' '}, {'type': 'text', 'value': 'Al', 'ts': 13.205, 'end_ts': 13.245, 'confidence': 0.58}, {'type': 'punct', 'value': ' '}, {'type': 'text', 'value': 'Pastor', 'ts': 13.245, 'end_ts': 13.405, 'confidence': 0.67}, {'type': 'punct', 'value': ' '}, {'type': 'text', 'value': 'are', 'ts': 13.665, 'end_ts': 13.885, 'confidence': 0.99}, {'type': 'punct', 'value': ' '}, {'type': 'text', 'value': 'my', 'ts': 13.885, 'end_ts': 14.045, 'confidence': 0.99}, {'type': 'punct', 'value': ' '}, {'type': 'text', 'value': 'favorite', 'ts': 14.165, 'end_ts': 14.245, 'confidence': 0.99}, {'type': 'punct', 'value': '.'}, {'type': 'punct', 'value': ' '}]}, {'speaker': 1, 'elements': [{'type': 'text', 'value': 'A', 'ts': 15.085, 'end_ts': 15.205, 'confidence': 0.99}, {'type': 'punct', 'value': ' '}, {'type': 'text', 'value': 'zestful', 'ts': 15.325, 'end_ts': 15.605, 'confidence': 0.99}, {'type': 'punct', 'value': ' '}, {'type': 'text', 'value': 'food', 'ts': 15.605, 'end_ts': 15.885, 'confidence': 0.99}, {'type': 'punct', 'value': ' '}, {'type': 'text', 'value': 'is', 'ts': 16.025, 'end_ts': 16.245, 'confidence': 0.99}, {'type': 'punct', 'value': ' '}, {'type': 'text', 'value': 'the', 'ts': 16.245, 'end_ts': 16.365, 'confidence': 0.99}, {'type': 'punct', 'value': ' '}, {'type': 'text', 'value': 'hot', 'ts': 16.385, 'end_ts': 16.605, 'confidence': 0.99}, {'type': 'punct', 'value': ' '}, {'type': 'text', 'value': 'cross', 'ts': 16.605, 'end_ts': 16.925, 'confidence': 0.89}, {'type': 'punct', 'value': ' '}, {'type': 'text', 'value': 'bun', 'ts': 17.065, 'end_ts': 17.285, 'confidence': 0.99}, {'type': 'punct', 'value': '.'}]}]}\n"
     ]
    }
   ],
   "source": [
    "transcript_url = f'https://api.rev.ai/speechtotext/v1/jobs/{job_id}/transcript'\n",
    "response = requests.get(transcript_url, headers=headers)\n",
    "print(response.json())"
   ]
  },
  {
   "cell_type": "code",
   "execution_count": null,
   "id": "c5375020-31bc-4383-b18b-88cb7eadd4ef",
   "metadata": {},
   "outputs": [],
   "source": []
  }
 ],
 "metadata": {
  "kernelspec": {
   "display_name": "Python 3 (ipykernel)",
   "language": "python",
   "name": "python3"
  },
  "language_info": {
   "codemirror_mode": {
    "name": "ipython",
    "version": 3
   },
   "file_extension": ".py",
   "mimetype": "text/x-python",
   "name": "python",
   "nbconvert_exporter": "python",
   "pygments_lexer": "ipython3",
   "version": "3.11.5"
  }
 },
 "nbformat": 4,
 "nbformat_minor": 5
}
