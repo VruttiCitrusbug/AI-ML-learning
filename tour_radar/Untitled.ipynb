{
 "cells": [
  {
   "cell_type": "code",
   "execution_count": 14,
   "id": "7e9d1ad5-0bbd-4547-8196-33b829d06e46",
   "metadata": {},
   "outputs": [],
   "source": [
    "import pandas as pd\n",
    "import openai\n",
    "from openai import OpenAI\n",
    "import os\n",
    "import re\n",
    "from dotenv import load_dotenv\n",
    "from itertools import islice\n",
    "\n",
    "load_dotenv()\n",
    "api_key = os.getenv('GPT_OPEN_AI_KEY')"
   ]
  },
  {
   "cell_type": "code",
   "execution_count": null,
   "id": "cd6ca734-be3c-44d8-aa09-1e3124e1ebcc",
   "metadata": {},
   "outputs": [],
   "source": []
  }
 ],
 "metadata": {
  "kernelspec": {
   "display_name": "Python 3 (ipykernel)",
   "language": "python",
   "name": "python3"
  },
  "language_info": {
   "codemirror_mode": {
    "name": "ipython",
    "version": 3
   },
   "file_extension": ".py",
   "mimetype": "text/x-python",
   "name": "python",
   "nbconvert_exporter": "python",
   "pygments_lexer": "ipython3",
   "version": "3.11.5"
  }
 },
 "nbformat": 4,
 "nbformat_minor": 5
}
