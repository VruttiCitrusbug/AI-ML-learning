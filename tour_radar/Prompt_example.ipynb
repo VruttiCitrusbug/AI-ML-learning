{
 "cells": [
  {
   "cell_type": "raw",
   "id": "26e335f2-4bd1-49fe-9f09-b87eaa56ee57",
   "metadata": {},
   "source": [
    "prompt=f\"\"\"\n",
    "Below I provided you with a File in a CSV format.\n",
    "\n",
    "**File Description**\n",
    "The file contains columns tour_id and message. \n",
    "tour_id indicates the particular tour plan.\n",
    "message column has the data of questions and answers. The user asks for the question and the related answer is given by the tour organizations.\n",
    "\n",
    "**Instructions**\n",
    "The message column had unstructured data.\n",
    "\n",
    "For example:\n",
    "tour_id: 1\n",
    "message: \"Which criteria are used to calculate the pricing\"\n",
    "tour_id: 1\n",
    "message: \"There are a total of five places to visit.\"\n",
    "tour_id: 3\n",
    "message: \"There is no cancelation plan for this tour.\"\n",
    "tour_id: 1\n",
    "message: \"There are factors like food, transportation, and residential costs that are taken into consideration for the pricing.\"\n",
    "tour_id: 1\n",
    "message: \"Is there any cancelation plan?\"\n",
    "The above is an example dataset you have to identify in a pair of tour questions like:\n",
    "question: \"Which criteria are used to calculate the pricing\"\n",
    "answer: \"There are factors like food, transportation, and residential costs that are taken into consideration for the pricing.\"\n",
    "but note that even if the question and answer relate to each other but do not have the same tour_id they do not mesh up.\n",
    "Wrong selection:\n",
    "question: \"Is there any cancelation plan?\"\n",
    "answer: \"There is no cancelation plan for this tour.\"\n",
    "\n",
    "**Task Description**\n",
    "I need a top 10 frequently asked Question answers for each unique tour_id, So analyze all the questions and answers in the message column relate them if it is compatible with the instructions give the output in the format of\n",
    "Question: <question text>\n",
    "Answer:<answer to the question>\n",
    "Analyse which questions are frequently asked for the particular tour_id and modify them in terms of FAQ.\n",
    "\n",
    "**CSV File data**\n",
    "{prompt_csv}\n",
    "\"\"\""
   ]
  },
  {
   "cell_type": "raw",
   "id": "25bac037-4954-4d0b-a607-e91877d378fb",
   "metadata": {},
   "source": [
    "can you reduce this prompt and let me know what is the excet output of this prompt"
   ]
  },
  {
   "cell_type": "raw",
   "id": "a46a3e92-8d53-49fe-a150-63ff4137c151",
   "metadata": {},
   "source": [
    "**File Description**\n",
    "The file contains columns tour_id and message. The message column includes questions and answers from users and tour organizations.\n",
    "\n",
    "**Instructions**\n",
    "1. Identify pairs of related questions and answers within the same tour_id.\n",
    "2. Exclude unrelated pairs even if the questions and answers seem related but have different tour_id`s.\n",
    "\n",
    "**Task Description**\n",
    "1. Generate the top 10 frequently asked question-answer pairs for each unique tour_id.\n",
    "2. Format the output as FAQs.\n",
    "\n",
    "**Example Data**\n",
    "tour_id: 1\n",
    "message: \"Which criteria are used to calculate the pricing\"\n",
    "tour_id: 1\n",
    "message: \"There are a total of five places to visit.\"\n",
    "tour_id: 3\n",
    "message: \"There is no cancelation plan for this tour.\"\n",
    "tour_id: 1\n",
    "message: \"There are factors like food, transportation, and residential costs that are taken into consideration for the pricing.\"\n",
    "tour_id: 1\n",
    "message: \"Is there any cancelation plan?\"\n",
    "\n",
    "**Correct Pairing Example**\n",
    "Question: \"Which criteria are used to calculate the pricing\"\n",
    "Answer: \"There are factors like food, transportation, and residential costs that are taken into consideration for the pricing.\"\n",
    "\n",
    "**Incorrect Pairing Example**\n",
    "Question: \"Is there any cancelation plan?\"\n",
    "Answer: \"There is no cancelation plan for this tour.\"\n",
    "because the question belongs to the tour_id: 1 and answer from tour_id: 3\n",
    "\n",
    "**Expected Output**\n",
    "For each tour_id, output the top 10 FAQs in the following format:\n",
    "Question: <question text>\n",
    "Answer: <answer to the question>\n",
    "\n",
    "**CSV File data**\n",
    "{prompt_csv}"
   ]
  },
  {
   "cell_type": "code",
   "execution_count": null,
   "id": "de8fc8c1-3d2f-4253-be0a-8d75d43f257f",
   "metadata": {},
   "outputs": [],
   "source": []
  }
 ],
 "metadata": {
  "kernelspec": {
   "display_name": "Python 3 (ipykernel)",
   "language": "python",
   "name": "python3"
  },
  "language_info": {
   "codemirror_mode": {
    "name": "ipython",
    "version": 3
   },
   "file_extension": ".py",
   "mimetype": "text/x-python",
   "name": "python",
   "nbconvert_exporter": "python",
   "pygments_lexer": "ipython3",
   "version": "3.11.5"
  }
 },
 "nbformat": 4,
 "nbformat_minor": 5
}
