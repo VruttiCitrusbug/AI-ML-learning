{
 "cells": [
  {
   "cell_type": "code",
   "execution_count": 3,
   "id": "678a1f1d-6c8b-415f-be4a-7cfb2fd7f6be",
   "metadata": {},
   "outputs": [
    {
     "name": "stdout",
     "output_type": "stream",
     "text": [
      "Requirement already satisfied: openai in c:\\projects\\ai-ml-learning\\venv\\lib\\site-packages (1.30.3)\n",
      "Requirement already satisfied: anyio<5,>=3.5.0 in c:\\projects\\ai-ml-learning\\venv\\lib\\site-packages (from openai) (4.3.0)\n",
      "Requirement already satisfied: distro<2,>=1.7.0 in c:\\projects\\ai-ml-learning\\venv\\lib\\site-packages (from openai) (1.9.0)\n",
      "Requirement already satisfied: httpx<1,>=0.23.0 in c:\\projects\\ai-ml-learning\\venv\\lib\\site-packages (from openai) (0.27.0)\n",
      "Requirement already satisfied: pydantic<3,>=1.9.0 in c:\\projects\\ai-ml-learning\\venv\\lib\\site-packages (from openai) (2.7.1)\n",
      "Requirement already satisfied: sniffio in c:\\projects\\ai-ml-learning\\venv\\lib\\site-packages (from openai) (1.3.1)\n",
      "Requirement already satisfied: tqdm>4 in c:\\projects\\ai-ml-learning\\venv\\lib\\site-packages (from openai) (4.66.4)\n",
      "Requirement already satisfied: typing-extensions<5,>=4.7 in c:\\projects\\ai-ml-learning\\venv\\lib\\site-packages (from openai) (4.11.0)\n",
      "Requirement already satisfied: idna>=2.8 in c:\\projects\\ai-ml-learning\\venv\\lib\\site-packages (from anyio<5,>=3.5.0->openai) (3.7)\n",
      "Requirement already satisfied: certifi in c:\\projects\\ai-ml-learning\\venv\\lib\\site-packages (from httpx<1,>=0.23.0->openai) (2024.2.2)\n",
      "Requirement already satisfied: httpcore==1.* in c:\\projects\\ai-ml-learning\\venv\\lib\\site-packages (from httpx<1,>=0.23.0->openai) (1.0.5)\n",
      "Requirement already satisfied: h11<0.15,>=0.13 in c:\\projects\\ai-ml-learning\\venv\\lib\\site-packages (from httpcore==1.*->httpx<1,>=0.23.0->openai) (0.14.0)\n",
      "Requirement already satisfied: annotated-types>=0.4.0 in c:\\projects\\ai-ml-learning\\venv\\lib\\site-packages (from pydantic<3,>=1.9.0->openai) (0.6.0)\n",
      "Requirement already satisfied: pydantic-core==2.18.2 in c:\\projects\\ai-ml-learning\\venv\\lib\\site-packages (from pydantic<3,>=1.9.0->openai) (2.18.2)\n",
      "Requirement already satisfied: colorama in c:\\projects\\ai-ml-learning\\venv\\lib\\site-packages (from tqdm>4->openai) (0.4.6)\n"
     ]
    }
   ],
   "source": [
    "!pip install openai"
   ]
  },
  {
   "cell_type": "code",
   "execution_count": 4,
   "id": "5a215ce4-cc4e-4816-b8c9-c75e2e985646",
   "metadata": {},
   "outputs": [],
   "source": [
    "from dotenv import load_dotenv\n",
    "import os"
   ]
  },
  {
   "cell_type": "code",
   "execution_count": 5,
   "id": "ba3ee1ed-76b4-43a4-a73f-c39b1ed01431",
   "metadata": {},
   "outputs": [
    {
     "data": {
      "text/plain": [
       "True"
      ]
     },
     "execution_count": 5,
     "metadata": {},
     "output_type": "execute_result"
    }
   ],
   "source": [
    "load_dotenv()"
   ]
  },
  {
   "cell_type": "code",
   "execution_count": 6,
   "id": "b9a8aa16-cf7a-4f8c-93f7-95f3d9158f89",
   "metadata": {},
   "outputs": [],
   "source": [
    "import openai"
   ]
  },
  {
   "cell_type": "code",
   "execution_count": 7,
   "id": "8ab6972c-cc81-4c96-9292-67ecbc0fe739",
   "metadata": {},
   "outputs": [],
   "source": [
    "api_key = os.environ['GPT_OPEN_AI_KEY']"
   ]
  },
  {
   "cell_type": "code",
   "execution_count": 2,
   "id": "c8b9ca8c-d2e7-47e4-9234-88d2c71d5f4e",
   "metadata": {},
   "outputs": [],
   "source": [
    "prompt = \"\"\"\n",
    "Generate a list of frequently asked questions (FAQs) and their answers for a tour guide service. \n",
    "The tour is in New York City and focuses on historical landmarks.\n",
    "\n",
    "Example:\n",
    "Q: What time does the tour start?\n",
    "A: The tour starts at 10:00 AM.\n",
    "\n",
    "Now, create 5 more FAQs with answers.\n",
    "\"\"\""
   ]
  },
  {
   "cell_type": "code",
   "execution_count": 11,
   "id": "8b7282ed-50fa-4b93-8784-8db05a4f66c1",
   "metadata": {},
   "outputs": [
    {
     "name": "stdout",
     "output_type": "stream",
     "text": [
      "ChatCompletionMessage(content=\"I'm glad to hear your day was fine! As for me, my day was great. I've been busy learning and assisting users like you. Is there anything specific you'd like to talk about or learn more about today?\", role='assistant', function_call=None, tool_calls=None)\n"
     ]
    }
   ],
   "source": [
    "from openai import OpenAI\n",
    "client = OpenAI(api_key=api_key)\n",
    "\n",
    "completion = client.chat.completions.create(\n",
    "  model=\"gpt-3.5-turbo\",\n",
    "  messages=[\n",
    "    {\"role\": \"system\", \"content\": \"How was your day?\"},\n",
    "    {\"role\": \"user\", \"content\": \"fine.And yours?\"}\n",
    "  ]\n",
    ")\n",
    "\n",
    "print(completion.choices[0].message)"
   ]
  }
 ],
 "metadata": {
  "kernelspec": {
   "display_name": "Python 3 (ipykernel)",
   "language": "python",
   "name": "python3"
  },
  "language_info": {
   "codemirror_mode": {
    "name": "ipython",
    "version": 3
   },
   "file_extension": ".py",
   "mimetype": "text/x-python",
   "name": "python",
   "nbconvert_exporter": "python",
   "pygments_lexer": "ipython3",
   "version": "3.11.5"
  }
 },
 "nbformat": 4,
 "nbformat_minor": 5
}
