{
 "cells": [
  {
   "cell_type": "code",
   "execution_count": 18,
   "id": "89bb760c-57ea-4f23-8065-0b34c379d354",
   "metadata": {},
   "outputs": [],
   "source": [
    "import os\n",
    "import nltk\n",
    "import nltk.corpus"
   ]
  },
  {
   "cell_type": "code",
   "execution_count": 19,
   "id": "8646d0b1-07af-4650-b70c-02c80df8dc82",
   "metadata": {},
   "outputs": [],
   "source": [
    "sentence = \"\"\"At eight o'clock on Thursday morning Arthur didn't feel very good.\"\"\""
   ]
  },
  {
   "cell_type": "code",
   "execution_count": 20,
   "id": "bde6bd20-363a-419d-898f-59e962a27200",
   "metadata": {},
   "outputs": [
    {
     "data": {
      "text/plain": [
       "['At',\n",
       " 'eight',\n",
       " \"o'clock\",\n",
       " 'on',\n",
       " 'Thursday',\n",
       " 'morning',\n",
       " 'Arthur',\n",
       " 'did',\n",
       " \"n't\",\n",
       " 'feel',\n",
       " 'very',\n",
       " 'good',\n",
       " '.']"
      ]
     },
     "execution_count": 20,
     "metadata": {},
     "output_type": "execute_result"
    }
   ],
   "source": [
    "tokens = nltk.word_tokenize(sentence)\n",
    "tokens"
   ]
  },
  {
   "cell_type": "code",
   "execution_count": 17,
   "id": "514c5ce9-4ff1-4a22-83de-3680d3107c3f",
   "metadata": {},
   "outputs": [
    {
     "data": {
      "text/plain": [
       "[('At', 'IN'),\n",
       " ('eight', 'CD'),\n",
       " (\"o'clock\", 'NN'),\n",
       " ('on', 'IN'),\n",
       " ('Thursday', 'NNP'),\n",
       " ('morning', 'NN'),\n",
       " ('Arthur', 'NNP'),\n",
       " ('did', 'VBD'),\n",
       " (\"n't\", 'RB'),\n",
       " ('feel', 'VB'),\n",
       " ('very', 'RB'),\n",
       " ('good', 'JJ'),\n",
       " ('.', '.')]"
      ]
     },
     "execution_count": 17,
     "metadata": {},
     "output_type": "execute_result"
    }
   ],
   "source": [
    "tagged = nltk.pos_tag(tokens)\n",
    "tagged"
   ]
  },
  {
   "cell_type": "code",
   "execution_count": 30,
   "id": "2b106798-45c0-46e6-add4-07a9ae09ffb2",
   "metadata": {},
   "outputs": [
    {
     "name": "stderr",
     "output_type": "stream",
     "text": [
      "[nltk_data] Downloading package gutenberg to\n",
      "[nltk_data]     C:\\Users\\Vrutti\\AppData\\Roaming\\nltk_data...\n",
      "[nltk_data]   Package gutenberg is already up-to-date!\n",
      "[nltk_data] Downloading package brown to\n",
      "[nltk_data]     C:\\Users\\Vrutti\\AppData\\Roaming\\nltk_data...\n",
      "[nltk_data]   Package brown is already up-to-date!\n"
     ]
    },
    {
     "data": {
      "text/plain": [
       "True"
      ]
     },
     "execution_count": 30,
     "metadata": {},
     "output_type": "execute_result"
    }
   ],
   "source": [
    "nltk.download('gutenberg')\n",
    "nltk.download('brown')"
   ]
  },
  {
   "cell_type": "code",
   "execution_count": 31,
   "id": "c78841c8-4e78-486f-8d40-4e8d34d02263",
   "metadata": {},
   "outputs": [
    {
     "name": "stdout",
     "output_type": "stream",
     "text": [
      "['brown', 'brown.zip', 'gutenberg', 'gutenberg.zip']\n"
     ]
    }
   ],
   "source": [
    "print(os.listdir(nltk.data.find(\"corpora\"))) #list of downloaded data accociated with the nltk"
   ]
  },
  {
   "cell_type": "code",
   "execution_count": 32,
   "id": "09ee30e3-43b4-4d3a-b6ca-bb8937a95119",
   "metadata": {},
   "outputs": [
    {
     "data": {
      "text/plain": [
       "['The', 'Fulton', 'County', 'Grand', 'Jury', 'said', ...]"
      ]
     },
     "execution_count": 32,
     "metadata": {},
     "output_type": "execute_result"
    }
   ],
   "source": [
    "from nltk.corpus import brown\n",
    "brown.words()"
   ]
  },
  {
   "cell_type": "code",
   "execution_count": 33,
   "id": "9860a971-e92f-4d98-b44c-40a79074ffe8",
   "metadata": {},
   "outputs": [
    {
     "data": {
      "text/plain": [
       "['austen-emma.txt',\n",
       " 'austen-persuasion.txt',\n",
       " 'austen-sense.txt',\n",
       " 'bible-kjv.txt',\n",
       " 'blake-poems.txt',\n",
       " 'bryant-stories.txt',\n",
       " 'burgess-busterbrown.txt',\n",
       " 'carroll-alice.txt',\n",
       " 'chesterton-ball.txt',\n",
       " 'chesterton-brown.txt',\n",
       " 'chesterton-thursday.txt',\n",
       " 'edgeworth-parents.txt',\n",
       " 'melville-moby_dick.txt',\n",
       " 'milton-paradise.txt',\n",
       " 'shakespeare-caesar.txt',\n",
       " 'shakespeare-hamlet.txt',\n",
       " 'shakespeare-macbeth.txt',\n",
       " 'whitman-leaves.txt']"
      ]
     },
     "execution_count": 33,
     "metadata": {},
     "output_type": "execute_result"
    }
   ],
   "source": [
    "from nltk.corpus import gutenberg\n",
    "nltk.corpus.gutenberg.fileids() #listout file in the folder"
   ]
  },
  {
   "cell_type": "code",
   "execution_count": 35,
   "id": "ed839695-09f1-4147-b8bf-d9ef441929bb",
   "metadata": {},
   "outputs": [
    {
     "data": {
      "text/plain": [
       "['[', 'The', 'Tragedie', 'of', 'Hamlet', 'by', ...]"
      ]
     },
     "execution_count": 35,
     "metadata": {},
     "output_type": "execute_result"
    }
   ],
   "source": [
    "hamlet = nltk.corpus.gutenberg.words('shakespeare-hamlet.txt') #get the word of file\n",
    "hamlet"
   ]
  },
  {
   "cell_type": "code",
   "execution_count": 36,
   "id": "a742417a-12e5-4580-b8fe-5d7cd93e653b",
   "metadata": {},
   "outputs": [
    {
     "name": "stdout",
     "output_type": "stream",
     "text": [
      "[ The Tragedie of Hamlet by William Shakespeare 1599 ] Actus Primus . Scoena Prima . Enter Barnardo and Francisco two Centinels . Barnardo . Who ' s there ? Fran . Nay answer me : Stand & vnfold your selfe Bar . Long liue the King Fran . Barnardo ? Bar . He Fran . You come most carefully vpon your houre Bar . ' Tis now strook twelue , get thee to bed Francisco Fran . For this releefe much thankes : ' Tis bitter cold , And I am sicke at heart Barn . Haue you had quiet Guard ? Fran . Not a Mouse stirring Barn . Well , goodnight . If you do meet Horatio and Marcellus , the Riuals of my Watch , bid them make hast . Enter Horatio and Marcellus . Fran . I thinke I heare them . Stand : who ' s there ? Hor . Friends to this ground Mar . And Leige - men to the Dane Fran . Giue you good night Mar . O farwel honest Soldier , who hath relieu ' d you ? Fra . Barnardo ha ' s my place : giue you goodnight . Exit Fran . Mar . Holla Barnardo Bar . Say , what is Horatio there ? Hor . A peece of him Bar . Welcome Horatio , welcome good Marcellus Mar . What , ha ' s this thing appear ' d againe to night Bar . I haue seene nothing Mar . Horatio saies , ' tis but our Fantasie , And will not let beleefe take hold of him Touching this dreaded sight , twice seene of vs , Therefore I haue intreated him along With vs , to watch the minutes of this Night , That if againe this Apparition come , He may approue our eyes , and speake to it Hor . Tush , tush , ' twill not appeare Bar . Sit downe a - while , And let vs once againe assaile your eares , That are so fortified against our Story , What we two Nights haue seene Hor . Well , sit we downe , And let vs heare Barnardo speake of this Barn . Last night of all , When yond same Starre that ' s Westward from the Pole Had made his course t ' illume that part of Heauen Where now it burnes , Marcellus and my selfe , The Bell then beating one Mar . Peace , breake thee of : Enter the Ghost . Looke where it comes againe Barn . In the same figure , like the King that ' s dead Mar . Thou art a Scholler ; speake to it Horatio Barn . Lookes it not like the King ? Marke it Horatio Hora . Most like : It harrowes me with fear & wonder Barn . It would be spoke too Mar . Question it Horatio Hor . What art "
     ]
    }
   ],
   "source": [
    "for word in hamlet[:500]:\n",
    "    print(word,sep=' ',end=' ')"
   ]
  },
  {
   "cell_type": "code",
   "execution_count": 62,
   "id": "8982041b-f091-4637-a914-6ef40ec2d55f",
   "metadata": {},
   "outputs": [],
   "source": [
    "AI = \"\"\"\n",
    "    AI is a field of study that focuses on creating intelligent machines capable of performing tasks that typically require human intelligence.\n",
    "\n",
    "    Artificial Intelligence (AI) involves the development of computer systems that can perform tasks that would normally require human intelligence, such as speech recognition, problem-solving, and decision-making.\n",
    "    \n",
    "    AI is the branch of computer science that deals with the creation of intelligent machines that can learn, reason, and problem-solve, mimicking human cognitive abilities.\n",
    "\"\"\""
   ]
  },
  {
   "cell_type": "code",
   "execution_count": 63,
   "id": "ff35414f-2cbd-4f5a-ad7f-06feb4806577",
   "metadata": {},
   "outputs": [
    {
     "data": {
      "text/plain": [
       "['AI',\n",
       " 'is',\n",
       " 'a',\n",
       " 'field',\n",
       " 'of',\n",
       " 'study',\n",
       " 'that',\n",
       " 'focuses',\n",
       " 'on',\n",
       " 'creating',\n",
       " 'intelligent',\n",
       " 'machines',\n",
       " 'capable',\n",
       " 'of',\n",
       " 'performing',\n",
       " 'tasks',\n",
       " 'that',\n",
       " 'typically',\n",
       " 'require',\n",
       " 'human',\n",
       " 'intelligence',\n",
       " '.',\n",
       " 'Artificial',\n",
       " 'Intelligence',\n",
       " '(',\n",
       " 'AI',\n",
       " ')',\n",
       " 'involves',\n",
       " 'the',\n",
       " 'development',\n",
       " 'of',\n",
       " 'computer',\n",
       " 'systems',\n",
       " 'that',\n",
       " 'can',\n",
       " 'perform',\n",
       " 'tasks',\n",
       " 'that',\n",
       " 'would',\n",
       " 'normally',\n",
       " 'require',\n",
       " 'human',\n",
       " 'intelligence',\n",
       " ',',\n",
       " 'such',\n",
       " 'as',\n",
       " 'speech',\n",
       " 'recognition',\n",
       " ',',\n",
       " 'problem-solving',\n",
       " ',',\n",
       " 'and',\n",
       " 'decision-making',\n",
       " '.',\n",
       " 'AI',\n",
       " 'is',\n",
       " 'the',\n",
       " 'branch',\n",
       " 'of',\n",
       " 'computer',\n",
       " 'science',\n",
       " 'that',\n",
       " 'deals',\n",
       " 'with',\n",
       " 'the',\n",
       " 'creation',\n",
       " 'of',\n",
       " 'intelligent',\n",
       " 'machines',\n",
       " 'that',\n",
       " 'can',\n",
       " 'learn',\n",
       " ',',\n",
       " 'reason',\n",
       " ',',\n",
       " 'and',\n",
       " 'problem-solve',\n",
       " ',',\n",
       " 'mimicking',\n",
       " 'human',\n",
       " 'cognitive',\n",
       " 'abilities',\n",
       " '.']"
      ]
     },
     "execution_count": 63,
     "metadata": {},
     "output_type": "execute_result"
    }
   ],
   "source": [
    "AItokens = nltk.word_tokenize(AI)\n",
    "AItokens"
   ]
  },
  {
   "cell_type": "code",
   "execution_count": 64,
   "id": "5cf576e6-2cf4-4b59-866d-1d40391e3f21",
   "metadata": {},
   "outputs": [
    {
     "data": {
      "text/plain": [
       "83"
      ]
     },
     "execution_count": 64,
     "metadata": {},
     "output_type": "execute_result"
    }
   ],
   "source": [
    "len(AItokens)"
   ]
  },
  {
   "cell_type": "code",
   "execution_count": 65,
   "id": "dfe1b0d6-8183-405f-9c7d-44c0768fb2af",
   "metadata": {},
   "outputs": [],
   "source": [
    "from nltk.probability import FreqDist\n",
    "fdist = FreqDist()"
   ]
  },
  {
   "cell_type": "code",
   "execution_count": 66,
   "id": "81dbaf40-760e-42c6-a2a6-0e58657e9d8d",
   "metadata": {},
   "outputs": [
    {
     "data": {
      "text/plain": [
       "FreqDist({'that': 6, ',': 6, 'of': 5, 'ai': 3, 'human': 3, 'intelligence': 3, '.': 3, 'the': 3, 'is': 2, 'intelligent': 2, ...})"
      ]
     },
     "execution_count": 66,
     "metadata": {},
     "output_type": "execute_result"
    }
   ],
   "source": [
    "for word in AItokens:\n",
    "    fdist[word.lower()]+=1\n",
    "fdist # frequency of occurrence for each distinct word or token in a body of text"
   ]
  },
  {
   "cell_type": "code",
   "execution_count": 67,
   "id": "19ce1396-5d65-4d86-8f9e-f9dbed061719",
   "metadata": {},
   "outputs": [
    {
     "data": {
      "text/plain": [
       "[('that', 6),\n",
       " (',', 6),\n",
       " ('of', 5),\n",
       " ('ai', 3),\n",
       " ('human', 3),\n",
       " ('intelligence', 3),\n",
       " ('.', 3),\n",
       " ('the', 3),\n",
       " ('is', 2),\n",
       " ('intelligent', 2)]"
      ]
     },
     "execution_count": 67,
     "metadata": {},
     "output_type": "execute_result"
    }
   ],
   "source": [
    "fdist.most_common(10) #most frequently used top 10 words"
   ]
  },
  {
   "cell_type": "code",
   "execution_count": 68,
   "id": "bd079a12-f6b8-4578-8df8-47f2ea5ca43b",
   "metadata": {},
   "outputs": [
    {
     "data": {
      "text/plain": [
       "3"
      ]
     },
     "execution_count": 68,
     "metadata": {},
     "output_type": "execute_result"
    }
   ],
   "source": [
    "fdist['the'] #find frequency of word"
   ]
  },
  {
   "cell_type": "code",
   "execution_count": 69,
   "id": "f8544237-d2ec-4f7e-8a88-cf708fe2035b",
   "metadata": {},
   "outputs": [
    {
     "data": {
      "text/plain": [
       "51"
      ]
     },
     "execution_count": 69,
     "metadata": {},
     "output_type": "execute_result"
    }
   ],
   "source": [
    "len(fdist) # we have 57 tokens before and now we had only 32"
   ]
  },
  {
   "cell_type": "code",
   "execution_count": 70,
   "id": "3039a2d0-6356-4729-9554-7b3f1acb1612",
   "metadata": {},
   "outputs": [
    {
     "data": {
      "text/plain": [
       "3"
      ]
     },
     "execution_count": 70,
     "metadata": {},
     "output_type": "execute_result"
    }
   ],
   "source": [
    "AIblank = nltk.blankline_tokenize(AI)\n",
    "len(AIblank)"
   ]
  },
  {
   "cell_type": "code",
   "execution_count": 72,
   "id": "34c98fb6-89c4-4473-bd6f-4dcdfacbf3d4",
   "metadata": {},
   "outputs": [
    {
     "data": {
      "text/plain": [
       "'Artificial Intelligence (AI) involves the development of computer systems that can perform tasks that would normally require human intelligence, such as speech recognition, problem-solving, and decision-making.'"
      ]
     },
     "execution_count": 72,
     "metadata": {},
     "output_type": "execute_result"
    }
   ],
   "source": [
    "AIblank[1] # first paragraph"
   ]
  },
  {
   "cell_type": "code",
   "execution_count": 78,
   "id": "222b6ce0-c2c9-4623-8c98-8116874147b7",
   "metadata": {},
   "outputs": [],
   "source": [
    "from nltk.util import bigrams, trigrams, ngrams # n consecutive word"
   ]
  },
  {
   "cell_type": "code",
   "execution_count": 79,
   "id": "08aceb3b-a091-4759-bbdb-030bfe1e560d",
   "metadata": {},
   "outputs": [],
   "source": [
    "string = \"Create content that celebrates the essence of beauty in just a few lines. Let your words evoke admiration and appreciation for the beauty around us.\""
   ]
  },
  {
   "cell_type": "code",
   "execution_count": 80,
   "id": "b5a5acd9-61ae-4978-80af-89a59667c33a",
   "metadata": {},
   "outputs": [
    {
     "data": {
      "text/plain": [
       "['Create',\n",
       " 'content',\n",
       " 'that',\n",
       " 'celebrates',\n",
       " 'the',\n",
       " 'essence',\n",
       " 'of',\n",
       " 'beauty',\n",
       " 'in',\n",
       " 'just',\n",
       " 'a',\n",
       " 'few',\n",
       " 'lines',\n",
       " '.',\n",
       " 'Let',\n",
       " 'your',\n",
       " 'words',\n",
       " 'evoke',\n",
       " 'admiration',\n",
       " 'and',\n",
       " 'appreciation',\n",
       " 'for',\n",
       " 'the',\n",
       " 'beauty',\n",
       " 'around',\n",
       " 'us',\n",
       " '.']"
      ]
     },
     "execution_count": 80,
     "metadata": {},
     "output_type": "execute_result"
    }
   ],
   "source": [
    "quots_token = nltk.word_tokenize(string)\n",
    "quots_token"
   ]
  },
  {
   "cell_type": "code",
   "execution_count": 82,
   "id": "45f8944b-3b37-4ea1-aeb0-408d73e3e4be",
   "metadata": {},
   "outputs": [
    {
     "data": {
      "text/plain": [
       "[('Create', 'content'),\n",
       " ('content', 'that'),\n",
       " ('that', 'celebrates'),\n",
       " ('celebrates', 'the'),\n",
       " ('the', 'essence'),\n",
       " ('essence', 'of'),\n",
       " ('of', 'beauty'),\n",
       " ('beauty', 'in'),\n",
       " ('in', 'just'),\n",
       " ('just', 'a'),\n",
       " ('a', 'few'),\n",
       " ('few', 'lines'),\n",
       " ('lines', '.'),\n",
       " ('.', 'Let'),\n",
       " ('Let', 'your'),\n",
       " ('your', 'words'),\n",
       " ('words', 'evoke'),\n",
       " ('evoke', 'admiration'),\n",
       " ('admiration', 'and'),\n",
       " ('and', 'appreciation'),\n",
       " ('appreciation', 'for'),\n",
       " ('for', 'the'),\n",
       " ('the', 'beauty'),\n",
       " ('beauty', 'around'),\n",
       " ('around', 'us'),\n",
       " ('us', '.')]"
      ]
     },
     "execution_count": 82,
     "metadata": {},
     "output_type": "execute_result"
    }
   ],
   "source": [
    "quots_bigrams = list(nltk.bigrams(quots_token))\n",
    "quots_bigrams\n",
    "# Bigrams are formed by taking each pair of adjacent words or tokens from a given text."
   ]
  },
  {
   "cell_type": "code",
   "execution_count": 83,
   "id": "abd3fc07-8e21-48e9-b510-7f5bd5e7e610",
   "metadata": {},
   "outputs": [
    {
     "data": {
      "text/plain": [
       "[('Create', 'content', 'that'),\n",
       " ('content', 'that', 'celebrates'),\n",
       " ('that', 'celebrates', 'the'),\n",
       " ('celebrates', 'the', 'essence'),\n",
       " ('the', 'essence', 'of'),\n",
       " ('essence', 'of', 'beauty'),\n",
       " ('of', 'beauty', 'in'),\n",
       " ('beauty', 'in', 'just'),\n",
       " ('in', 'just', 'a'),\n",
       " ('just', 'a', 'few'),\n",
       " ('a', 'few', 'lines'),\n",
       " ('few', 'lines', '.'),\n",
       " ('lines', '.', 'Let'),\n",
       " ('.', 'Let', 'your'),\n",
       " ('Let', 'your', 'words'),\n",
       " ('your', 'words', 'evoke'),\n",
       " ('words', 'evoke', 'admiration'),\n",
       " ('evoke', 'admiration', 'and'),\n",
       " ('admiration', 'and', 'appreciation'),\n",
       " ('and', 'appreciation', 'for'),\n",
       " ('appreciation', 'for', 'the'),\n",
       " ('for', 'the', 'beauty'),\n",
       " ('the', 'beauty', 'around'),\n",
       " ('beauty', 'around', 'us'),\n",
       " ('around', 'us', '.')]"
      ]
     },
     "execution_count": 83,
     "metadata": {},
     "output_type": "execute_result"
    }
   ],
   "source": [
    "quots_trigrams = list(nltk.trigrams(quots_token))\n",
    "quots_trigrams"
   ]
  },
  {
   "cell_type": "code",
   "execution_count": 84,
   "id": "3470cc44-059e-49db-9070-4a7358111dfc",
   "metadata": {},
   "outputs": [
    {
     "data": {
      "text/plain": [
       "[('Create', 'content', 'that', 'celebrates', 'the'),\n",
       " ('content', 'that', 'celebrates', 'the', 'essence'),\n",
       " ('that', 'celebrates', 'the', 'essence', 'of'),\n",
       " ('celebrates', 'the', 'essence', 'of', 'beauty'),\n",
       " ('the', 'essence', 'of', 'beauty', 'in'),\n",
       " ('essence', 'of', 'beauty', 'in', 'just'),\n",
       " ('of', 'beauty', 'in', 'just', 'a'),\n",
       " ('beauty', 'in', 'just', 'a', 'few'),\n",
       " ('in', 'just', 'a', 'few', 'lines'),\n",
       " ('just', 'a', 'few', 'lines', '.'),\n",
       " ('a', 'few', 'lines', '.', 'Let'),\n",
       " ('few', 'lines', '.', 'Let', 'your'),\n",
       " ('lines', '.', 'Let', 'your', 'words'),\n",
       " ('.', 'Let', 'your', 'words', 'evoke'),\n",
       " ('Let', 'your', 'words', 'evoke', 'admiration'),\n",
       " ('your', 'words', 'evoke', 'admiration', 'and'),\n",
       " ('words', 'evoke', 'admiration', 'and', 'appreciation'),\n",
       " ('evoke', 'admiration', 'and', 'appreciation', 'for'),\n",
       " ('admiration', 'and', 'appreciation', 'for', 'the'),\n",
       " ('and', 'appreciation', 'for', 'the', 'beauty'),\n",
       " ('appreciation', 'for', 'the', 'beauty', 'around'),\n",
       " ('for', 'the', 'beauty', 'around', 'us'),\n",
       " ('the', 'beauty', 'around', 'us', '.')]"
      ]
     },
     "execution_count": 84,
     "metadata": {},
     "output_type": "execute_result"
    }
   ],
   "source": [
    "quots_ngrams = list(nltk.ngrams(quots_token, 5))\n",
    "quots_ngrams"
   ]
  },
  {
   "cell_type": "code",
   "execution_count": 85,
   "id": "49351445-091a-471a-8999-69e310ed787e",
   "metadata": {},
   "outputs": [],
   "source": [
    "from nltk.stem import PorterStemmer\n",
    "pst=PorterStemmer()"
   ]
  },
  {
   "cell_type": "code",
   "execution_count": 86,
   "id": "f6869b85-d08d-441b-9ed5-a11c90e023f4",
   "metadata": {},
   "outputs": [
    {
     "data": {
      "text/plain": [
       "'have'"
      ]
     },
     "execution_count": 86,
     "metadata": {},
     "output_type": "execute_result"
    }
   ],
   "source": [
    "pst.stem(\"having\") #originate of word"
   ]
  },
  {
   "cell_type": "code",
   "execution_count": 87,
   "id": "5f5bb92d-0e13-494c-94d7-24129995fa0c",
   "metadata": {},
   "outputs": [
    {
     "name": "stdout",
     "output_type": "stream",
     "text": [
      "give: give\n",
      "giving: give\n",
      "given: given\n",
      "gave: gave\n"
     ]
    }
   ],
   "source": [
    "word_stream = [\"give\",\"giving\",\"given\",\"gave\"]\n",
    "for word in word_stream:\n",
    "    print( word +\": \"+ pst.stem(word))"
   ]
  },
  {
   "cell_type": "code",
   "execution_count": null,
   "id": "75178ec2-2b5b-471c-96a1-ad475014b8d7",
   "metadata": {},
   "outputs": [],
   "source": [
    "from nltk"
   ]
  }
 ],
 "metadata": {
  "kernelspec": {
   "display_name": "Python 3 (ipykernel)",
   "language": "python",
   "name": "python3"
  },
  "language_info": {
   "codemirror_mode": {
    "name": "ipython",
    "version": 3
   },
   "file_extension": ".py",
   "mimetype": "text/x-python",
   "name": "python",
   "nbconvert_exporter": "python",
   "pygments_lexer": "ipython3",
   "version": "3.11.5"
  }
 },
 "nbformat": 4,
 "nbformat_minor": 5
}
