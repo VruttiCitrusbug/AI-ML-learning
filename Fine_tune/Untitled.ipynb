{
 "cells": [
  {
   "cell_type": "code",
   "execution_count": 1,
   "id": "2828a0ae-5d00-4f3b-ada0-eaedcdd023bb",
   "metadata": {},
   "outputs": [
    {
     "name": "stdout",
     "output_type": "stream",
     "text": [
      "Requirement already satisfied: openai in c:\\projects\\ai-ml-learning\\venv\\lib\\site-packages (1.30.3)\n",
      "Collecting openai\n",
      "  Downloading openai-1.33.0-py3-none-any.whl.metadata (21 kB)\n",
      "Requirement already satisfied: anyio<5,>=3.5.0 in c:\\projects\\ai-ml-learning\\venv\\lib\\site-packages (from openai) (4.3.0)\n",
      "Requirement already satisfied: distro<2,>=1.7.0 in c:\\projects\\ai-ml-learning\\venv\\lib\\site-packages (from openai) (1.9.0)\n",
      "Requirement already satisfied: httpx<1,>=0.23.0 in c:\\projects\\ai-ml-learning\\venv\\lib\\site-packages (from openai) (0.27.0)\n",
      "Requirement already satisfied: pydantic<3,>=1.9.0 in c:\\projects\\ai-ml-learning\\venv\\lib\\site-packages (from openai) (2.7.1)\n",
      "Requirement already satisfied: sniffio in c:\\projects\\ai-ml-learning\\venv\\lib\\site-packages (from openai) (1.3.1)\n",
      "Requirement already satisfied: tqdm>4 in c:\\projects\\ai-ml-learning\\venv\\lib\\site-packages (from openai) (4.66.4)\n",
      "Requirement already satisfied: typing-extensions<5,>=4.7 in c:\\projects\\ai-ml-learning\\venv\\lib\\site-packages (from openai) (4.11.0)\n",
      "Requirement already satisfied: idna>=2.8 in c:\\projects\\ai-ml-learning\\venv\\lib\\site-packages (from anyio<5,>=3.5.0->openai) (3.7)\n",
      "Requirement already satisfied: certifi in c:\\projects\\ai-ml-learning\\venv\\lib\\site-packages (from httpx<1,>=0.23.0->openai) (2024.2.2)\n",
      "Requirement already satisfied: httpcore==1.* in c:\\projects\\ai-ml-learning\\venv\\lib\\site-packages (from httpx<1,>=0.23.0->openai) (1.0.5)\n",
      "Requirement already satisfied: h11<0.15,>=0.13 in c:\\projects\\ai-ml-learning\\venv\\lib\\site-packages (from httpcore==1.*->httpx<1,>=0.23.0->openai) (0.14.0)\n",
      "Requirement already satisfied: annotated-types>=0.4.0 in c:\\projects\\ai-ml-learning\\venv\\lib\\site-packages (from pydantic<3,>=1.9.0->openai) (0.6.0)\n",
      "Requirement already satisfied: pydantic-core==2.18.2 in c:\\projects\\ai-ml-learning\\venv\\lib\\site-packages (from pydantic<3,>=1.9.0->openai) (2.18.2)\n",
      "Requirement already satisfied: colorama in c:\\projects\\ai-ml-learning\\venv\\lib\\site-packages (from tqdm>4->openai) (0.4.6)\n",
      "Downloading openai-1.33.0-py3-none-any.whl (325 kB)\n",
      "   ---------------------------------------- 0.0/325.5 kB ? eta -:--:--\n",
      "   ---------- ----------------------------- 81.9/325.5 kB 2.3 MB/s eta 0:00:01\n",
      "   ---------------------------------------- 325.5/325.5 kB 5.1 MB/s eta 0:00:00\n",
      "Installing collected packages: openai\n",
      "  Attempting uninstall: openai\n",
      "    Found existing installation: openai 1.30.3\n",
      "    Uninstalling openai-1.30.3:\n",
      "      Successfully uninstalled openai-1.30.3\n",
      "Successfully installed openai-1.33.0\n"
     ]
    }
   ],
   "source": [
    "!pip install -U openai"
   ]
  },
  {
   "cell_type": "code",
   "execution_count": 2,
   "id": "2b3ea015-adb3-4542-856f-f00d63bd6b0d",
   "metadata": {},
   "outputs": [
    {
     "data": {
      "text/html": [
       "<div>\n",
       "<style scoped>\n",
       "    .dataframe tbody tr th:only-of-type {\n",
       "        vertical-align: middle;\n",
       "    }\n",
       "\n",
       "    .dataframe tbody tr th {\n",
       "        vertical-align: top;\n",
       "    }\n",
       "\n",
       "    .dataframe thead th {\n",
       "        text-align: right;\n",
       "    }\n",
       "</style>\n",
       "<table border=\"1\" class=\"dataframe\">\n",
       "  <thead>\n",
       "    <tr style=\"text-align: right;\">\n",
       "      <th></th>\n",
       "      <th>Support Query</th>\n",
       "      <th>Top Category</th>\n",
       "      <th>Sub Category</th>\n",
       "    </tr>\n",
       "  </thead>\n",
       "  <tbody>\n",
       "    <tr>\n",
       "      <th>0</th>\n",
       "      <td>Can you explain the monthly maintenance fee on...</td>\n",
       "      <td>Fees and Charges</td>\n",
       "      <td>Understanding Fees</td>\n",
       "    </tr>\n",
       "    <tr>\n",
       "      <th>1</th>\n",
       "      <td>I was charged a fee for an ATM withdrawal, why?</td>\n",
       "      <td>Fees and Charges</td>\n",
       "      <td>Understanding Fees</td>\n",
       "    </tr>\n",
       "    <tr>\n",
       "      <th>2</th>\n",
       "      <td>How do I dispute a transaction fee I believe i...</td>\n",
       "      <td>Fees and Charges</td>\n",
       "      <td>Dispute Charges</td>\n",
       "    </tr>\n",
       "    <tr>\n",
       "      <th>3</th>\n",
       "      <td>Are there any fees for using online banking?</td>\n",
       "      <td>Fees and Charges</td>\n",
       "      <td>Understanding Fees</td>\n",
       "    </tr>\n",
       "    <tr>\n",
       "      <th>4</th>\n",
       "      <td>What are the charges for a wire transfer?</td>\n",
       "      <td>Fees and Charges</td>\n",
       "      <td>Understanding Fees</td>\n",
       "    </tr>\n",
       "  </tbody>\n",
       "</table>\n",
       "</div>"
      ],
      "text/plain": [
       "                                       Support Query      Top Category  \\\n",
       "0  Can you explain the monthly maintenance fee on...  Fees and Charges   \n",
       "1    I was charged a fee for an ATM withdrawal, why?  Fees and Charges   \n",
       "2  How do I dispute a transaction fee I believe i...  Fees and Charges   \n",
       "3       Are there any fees for using online banking?  Fees and Charges   \n",
       "4          What are the charges for a wire transfer?  Fees and Charges   \n",
       "\n",
       "         Sub Category  \n",
       "0  Understanding Fees  \n",
       "1  Understanding Fees  \n",
       "2     Dispute Charges  \n",
       "3  Understanding Fees  \n",
       "4  Understanding Fees  "
      ]
     },
     "execution_count": 2,
     "metadata": {},
     "output_type": "execute_result"
    }
   ],
   "source": [
    "import pandas as pd\n",
    "df = pd.read_csv(\"bank_support_train.csv\")\n",
    "df.head(5)"
   ]
  },
  {
   "cell_type": "code",
   "execution_count": 4,
   "id": "1f0e1d07-faf9-423c-8d2d-21244d1dae05",
   "metadata": {},
   "outputs": [
    {
     "data": {
      "text/plain": [
       "[{'role': 'user',\n",
       "  'content': 'Can you explain the monthly maintenance fee on my account?'},\n",
       " {'role': 'assistant',\n",
       "  'content': '{\"Top Category\": \"Fees and Charges\", \"Sub Category\": \"Understanding Fees\"}'}]"
      ]
     },
     "execution_count": 4,
     "metadata": {},
     "output_type": "execute_result"
    }
   ],
   "source": [
    "# Format Dataset\n",
    "\n",
    "def convert_to_gpt35_format(dataset):\n",
    "    fine_tuning_data = []\n",
    "    for _, row in dataset.iterrows():\n",
    "        json_response = '{\"Top Category\": \"' + row['Top Category'] + '\", \"Sub Category\": \"' + row['Sub Category'] + '\"}'\n",
    "        fine_tuning_data.append({\n",
    "            \"messages\": [\n",
    "                {\"role\": \"user\", \"content\": row['Support Query']},\n",
    "                {\"role\": \"assistant\", \"content\": json_response}\n",
    "            ]\n",
    "        })\n",
    "    return fine_tuning_data\n",
    "\n",
    "dataset = pd.read_csv('bank_support_train.csv')\n",
    "converted_data = convert_to_gpt35_format(dataset)\n",
    "converted_data[0]['messages']"
   ]
  },
  {
   "cell_type": "code",
   "execution_count": 5,
   "id": "1c5fbb3a-ea86-4505-af0d-d8eceb68b5ba",
   "metadata": {},
   "outputs": [
    {
     "data": {
      "text/plain": [
       "{'Top Category': 'Fees and Charges', 'Sub Category': 'Understanding Fees'}"
      ]
     },
     "execution_count": 5,
     "metadata": {},
     "output_type": "execute_result"
    }
   ],
   "source": [
    "import json\n",
    "json.loads(converted_data[0]['messages'][-1]['content'])"
   ]
  },
  {
   "cell_type": "code",
   "execution_count": 7,
   "id": "5b1af4bd-18ce-4708-a2ce-af0ab2a2b8ca",
   "metadata": {},
   "outputs": [],
   "source": [
    "# Create Train and Val Set\n",
    "\n",
    "from sklearn.model_selection import train_test_split\n",
    "\n",
    "# Stratified splitting. Assuming 'Top Category' can be used for stratification\n",
    "train_data, val_data = train_test_split(\n",
    "    converted_data,\n",
    "    test_size=0.2,\n",
    "    stratify=dataset['Top Category'],\n",
    "    random_state=42  # for reproducibility\n",
    ")"
   ]
  },
  {
   "cell_type": "code",
   "execution_count": 8,
   "id": "62ca47fe-cd56-4644-a215-4540825a4470",
   "metadata": {},
   "outputs": [
    {
     "data": {
      "text/plain": [
       "dict"
      ]
     },
     "execution_count": 8,
     "metadata": {},
     "output_type": "execute_result"
    }
   ],
   "source": [
    "type(train_data[0])"
   ]
  },
  {
   "cell_type": "code",
   "execution_count": 9,
   "id": "e2a3cdb6-6eb4-4882-93fe-b57967e9fda0",
   "metadata": {},
   "outputs": [],
   "source": [
    "# Create JSONL file\n",
    "\n",
    "def write_to_jsonl(data, file_path):\n",
    "    with open(file_path, 'w') as file:\n",
    "        for entry in data:\n",
    "            json.dump(entry, file)\n",
    "            file.write('\\n')\n",
    "\n",
    "\n",
    "training_file_name = \"train.jsonl\"\n",
    "validation_file_name = \"val.jsonl\"\n",
    "\n",
    "write_to_jsonl(train_data, training_file_name)\n",
    "write_to_jsonl(val_data, validation_file_name)"
   ]
  },
  {
   "cell_type": "code",
   "execution_count": 10,
   "id": "cfa106e4-b75a-4ddc-b686-c0fa2c556f87",
   "metadata": {},
   "outputs": [],
   "source": [
    "from openai import OpenAI\n",
    "import os\n",
    "client = OpenAI(api_key=os.environ['GPT_OPEN_AI_KEY'])"
   ]
  },
  {
   "cell_type": "code",
   "execution_count": 11,
   "id": "1d19d25f-2825-48f4-bdcb-c9d9b3b16b06",
   "metadata": {},
   "outputs": [
    {
     "name": "stdout",
     "output_type": "stream",
     "text": [
      "Training file id: file-3oWT7MzsmDW2KcucRpFCwn9v\n",
      "Validation file id: file-Ai56SXBxMnDoVJNM0gsGBtXM\n"
     ]
    }
   ],
   "source": [
    "# Upload Training and Validation File\n",
    "\n",
    "training_file = client.files.create(\n",
    "    file=open(training_file_name, \"rb\"), purpose=\"fine-tune\"\n",
    ")\n",
    "validation_file = client.files.create(\n",
    "    file=open(validation_file_name, \"rb\"), purpose=\"fine-tune\"\n",
    ")\n",
    "\n",
    "print(\"Training file id:\", training_file.id)\n",
    "print(\"Validation file id:\", validation_file.id)"
   ]
  },
  {
   "cell_type": "code",
   "execution_count": 12,
   "id": "7c48f283-0894-4313-b9c8-517b205e8e61",
   "metadata": {},
   "outputs": [
    {
     "data": {
      "text/plain": [
       "FineTuningJob(id='ftjob-XtE6rmWMjwCWl5BAdsKvZC2E', created_at=1718166812, error=Error(code=None, message=None, param=None), fine_tuned_model=None, finished_at=None, hyperparameters=Hyperparameters(n_epochs='auto', batch_size='auto', learning_rate_multiplier='auto'), model='gpt-3.5-turbo-0125', object='fine_tuning.job', organization_id='org-UPSLssLNNasLkMhOlzKKCvfo', result_files=[], seed=1351744511, status='validating_files', trained_tokens=None, training_file='file-3oWT7MzsmDW2KcucRpFCwn9v', validation_file='file-Ai56SXBxMnDoVJNM0gsGBtXM', estimated_finish=None, integrations=[], user_provided_suffix='yt_tutorial')"
      ]
     },
     "execution_count": 12,
     "metadata": {},
     "output_type": "execute_result"
    }
   ],
   "source": [
    "# Create Finetuning Job\n",
    "suffix_name = \"yt_tutorial\"\n",
    "\n",
    "response = client.fine_tuning.jobs.create(\n",
    "    training_file=training_file.id,\n",
    "    validation_file=validation_file.id,\n",
    "    model=\"gpt-3.5-turbo\",\n",
    "    suffix=suffix_name,\n",
    ")\n",
    "response"
   ]
  },
  {
   "cell_type": "code",
   "execution_count": 15,
   "id": "20a34e76-a0fe-4f95-b128-41d36f3fd7bd",
   "metadata": {},
   "outputs": [
    {
     "data": {
      "text/plain": [
       "SyncCursorPage[FineTuningJob](data=[FineTuningJob(id='ftjob-XtE6rmWMjwCWl5BAdsKvZC2E', created_at=1718166812, error=Error(code=None, message=None, param=None), fine_tuned_model=None, finished_at=None, hyperparameters=Hyperparameters(n_epochs=3, batch_size=1, learning_rate_multiplier=2), model='gpt-3.5-turbo-0125', object='fine_tuning.job', organization_id='org-UPSLssLNNasLkMhOlzKKCvfo', result_files=[], seed=1351744511, status='running', trained_tokens=None, training_file='file-3oWT7MzsmDW2KcucRpFCwn9v', validation_file='file-Ai56SXBxMnDoVJNM0gsGBtXM', estimated_finish=1718167405, integrations=[], user_provided_suffix='yt_tutorial')], object='list', has_more=False)"
      ]
     },
     "execution_count": 15,
     "metadata": {},
     "output_type": "execute_result"
    }
   ],
   "source": [
    "# All Finetuning Jobs\n",
    "\n",
    "client.fine_tuning.jobs.list(limit=10)"
   ]
  },
  {
   "cell_type": "code",
   "execution_count": 17,
   "id": "3f779bb4-2e98-44aa-b098-fd06fab48f8a",
   "metadata": {},
   "outputs": [
    {
     "data": {
      "text/plain": [
       "FineTuningJob(id='ftjob-XtE6rmWMjwCWl5BAdsKvZC2E', created_at=1718166812, error=Error(code=None, message=None, param=None), fine_tuned_model=None, finished_at=None, hyperparameters=Hyperparameters(n_epochs=3, batch_size=1, learning_rate_multiplier=2), model='gpt-3.5-turbo-0125', object='fine_tuning.job', organization_id='org-UPSLssLNNasLkMhOlzKKCvfo', result_files=[], seed=1351744511, status='running', trained_tokens=None, training_file='file-3oWT7MzsmDW2KcucRpFCwn9v', validation_file='file-Ai56SXBxMnDoVJNM0gsGBtXM', estimated_finish=1718167402, integrations=[], user_provided_suffix='yt_tutorial')"
      ]
     },
     "execution_count": 17,
     "metadata": {},
     "output_type": "execute_result"
    }
   ],
   "source": [
    "# Retrieve Specific Job\n",
    "\n",
    "response = client.fine_tuning.jobs.retrieve(\"ftjob-XtE6rmWMjwCWl5BAdsKvZC2E\")\n",
    "response"
   ]
  },
  {
   "cell_type": "code",
   "execution_count": 18,
   "id": "75369a54-3862-43b6-8278-1d4036ab9631",
   "metadata": {},
   "outputs": [
    {
     "name": "stdout",
     "output_type": "stream",
     "text": [
      "\n",
      "Fine-tuned model id: None\n"
     ]
    }
   ],
   "source": [
    "fine_tuned_model_id = response.fine_tuned_model\n",
    "print(\"\\nFine-tuned model id:\", fine_tuned_model_id)"
   ]
  },
  {
   "cell_type": "code",
   "execution_count": null,
   "id": "370d2c87-8174-4ee4-87ed-60643f4b5872",
   "metadata": {},
   "outputs": [],
   "source": [
    "# Test Finetuned Model\n"
   ]
  }
 ],
 "metadata": {
  "kernelspec": {
   "display_name": "Python 3 (ipykernel)",
   "language": "python",
   "name": "python3"
  },
  "language_info": {
   "codemirror_mode": {
    "name": "ipython",
    "version": 3
   },
   "file_extension": ".py",
   "mimetype": "text/x-python",
   "name": "python",
   "nbconvert_exporter": "python",
   "pygments_lexer": "ipython3",
   "version": "3.11.5"
  }
 },
 "nbformat": 4,
 "nbformat_minor": 5
}
