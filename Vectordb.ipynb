{
 "cells": [
  {
   "cell_type": "code",
   "execution_count": 1,
   "id": "392ca659-090d-450a-a271-1461b2000b73",
   "metadata": {},
   "outputs": [
    {
     "data": {
      "text/plain": [
       "'Vector database:'"
      ]
     },
     "execution_count": 1,
     "metadata": {},
     "output_type": "execute_result"
    }
   ],
   "source": [
    "'''Vector database:'''"
   ]
  },
  {
   "cell_type": "code",
   "execution_count": 1,
   "id": "e7544efa-360b-4c62-83bc-8759b686cafd",
   "metadata": {},
   "outputs": [],
   "source": [
    "# https://prnt.sc/J9vD-gL2WwfC\n",
    "# https://prnt.sc/ngBASrWXpwxh"
   ]
  },
  {
   "cell_type": "code",
   "execution_count": 2,
   "id": "60993a0d-85e0-4649-b645-35395bd55958",
   "metadata": {},
   "outputs": [
    {
     "name": "stdout",
     "output_type": "stream",
     "text": [
      "Collecting pinecone-client\n",
      "  Downloading pinecone_client-4.1.0-py3-none-any.whl.metadata (16 kB)\n",
      "Requirement already satisfied: certifi>=2019.11.17 in c:\\projects\\ai-ml-learning\\venv\\lib\\site-packages (from pinecone-client) (2024.2.2)\n",
      "Requirement already satisfied: tqdm>=4.64.1 in c:\\projects\\ai-ml-learning\\venv\\lib\\site-packages (from pinecone-client) (4.66.4)\n",
      "Requirement already satisfied: typing-extensions>=3.7.4 in c:\\projects\\ai-ml-learning\\venv\\lib\\site-packages (from pinecone-client) (4.11.0)\n",
      "Requirement already satisfied: urllib3>=1.26.0 in c:\\projects\\ai-ml-learning\\venv\\lib\\site-packages (from pinecone-client) (2.2.1)\n",
      "Requirement already satisfied: colorama in c:\\projects\\ai-ml-learning\\venv\\lib\\site-packages (from tqdm>=4.64.1->pinecone-client) (0.4.6)\n",
      "Downloading pinecone_client-4.1.0-py3-none-any.whl (215 kB)\n",
      "   ---------------------------------------- 0.0/215.5 kB ? eta -:--:--\n",
      "   ----- ---------------------------------- 30.7/215.5 kB 1.3 MB/s eta 0:00:01\n",
      "   --------------- ------------------------ 81.9/215.5 kB 1.1 MB/s eta 0:00:01\n",
      "   ---------------------------------------  215.0/215.5 kB 1.9 MB/s eta 0:00:01\n",
      "   ---------------------------------------- 215.5/215.5 kB 1.6 MB/s eta 0:00:00\n",
      "Installing collected packages: pinecone-client\n",
      "Successfully installed pinecone-client-4.1.0\n"
     ]
    }
   ],
   "source": [
    "!pip install pinecone-client"
   ]
  },
  {
   "cell_type": "code",
   "execution_count": 3,
   "id": "a7296c55-a3a2-4a7d-b125-aaa71c449d42",
   "metadata": {},
   "outputs": [],
   "source": [
    "from pinecone import Pinecone, ServerlessSpec"
   ]
  },
  {
   "cell_type": "code",
   "execution_count": 4,
   "id": "39b8f87a-5078-41ed-9f0a-c8d3d0b3f2e8",
   "metadata": {},
   "outputs": [],
   "source": [
    "pc = Pinecone(api_key='9c387836-d104-4a8f-a455-29b181d156e6')"
   ]
  },
  {
   "cell_type": "code",
   "execution_count": null,
   "id": "c02c44cd-6cb8-485f-8d92-2713bd287375",
   "metadata": {},
   "outputs": [],
   "source": []
  }
 ],
 "metadata": {
  "kernelspec": {
   "display_name": "Python 3 (ipykernel)",
   "language": "python",
   "name": "python3"
  },
  "language_info": {
   "codemirror_mode": {
    "name": "ipython",
    "version": 3
   },
   "file_extension": ".py",
   "mimetype": "text/x-python",
   "name": "python",
   "nbconvert_exporter": "python",
   "pygments_lexer": "ipython3",
   "version": "3.11.5"
  }
 },
 "nbformat": 4,
 "nbformat_minor": 5
}
