{
 "cells": [
  {
   "cell_type": "code",
   "execution_count": 1,
   "id": "392ca659-090d-450a-a271-1461b2000b73",
   "metadata": {},
   "outputs": [
    {
     "data": {
      "text/plain": [
       "'Vector database:'"
      ]
     },
     "execution_count": 1,
     "metadata": {},
     "output_type": "execute_result"
    }
   ],
   "source": [
    "'''Vector database:'''"
   ]
  },
  {
   "cell_type": "code",
   "execution_count": 1,
   "id": "e7544efa-360b-4c62-83bc-8759b686cafd",
   "metadata": {},
   "outputs": [],
   "source": [
    "# https://prnt.sc/J9vD-gL2WwfC\n",
    "# https://prnt.sc/ngBASrWXpwxh"
   ]
  },
  {
   "cell_type": "code",
   "execution_count": 2,
   "id": "60993a0d-85e0-4649-b645-35395bd55958",
   "metadata": {},
   "outputs": [
    {
     "name": "stdout",
     "output_type": "stream",
     "text": [
      "Collecting pinecone-client\n",
      "  Downloading pinecone_client-4.1.0-py3-none-any.whl.metadata (16 kB)\n",
      "Requirement already satisfied: certifi>=2019.11.17 in c:\\projects\\ai-ml-learning\\venv\\lib\\site-packages (from pinecone-client) (2024.2.2)\n",
      "Requirement already satisfied: tqdm>=4.64.1 in c:\\projects\\ai-ml-learning\\venv\\lib\\site-packages (from pinecone-client) (4.66.4)\n",
      "Requirement already satisfied: typing-extensions>=3.7.4 in c:\\projects\\ai-ml-learning\\venv\\lib\\site-packages (from pinecone-client) (4.11.0)\n",
      "Requirement already satisfied: urllib3>=1.26.0 in c:\\projects\\ai-ml-learning\\venv\\lib\\site-packages (from pinecone-client) (2.2.1)\n",
      "Requirement already satisfied: colorama in c:\\projects\\ai-ml-learning\\venv\\lib\\site-packages (from tqdm>=4.64.1->pinecone-client) (0.4.6)\n",
      "Downloading pinecone_client-4.1.0-py3-none-any.whl (215 kB)\n",
      "   ---------------------------------------- 0.0/215.5 kB ? eta -:--:--\n",
      "   ----- ---------------------------------- 30.7/215.5 kB 1.3 MB/s eta 0:00:01\n",
      "   --------------- ------------------------ 81.9/215.5 kB 1.1 MB/s eta 0:00:01\n",
      "   ---------------------------------------  215.0/215.5 kB 1.9 MB/s eta 0:00:01\n",
      "   ---------------------------------------- 215.5/215.5 kB 1.6 MB/s eta 0:00:00\n",
      "Installing collected packages: pinecone-client\n",
      "Successfully installed pinecone-client-4.1.0\n"
     ]
    }
   ],
   "source": [
    "!pip install pinecone-client"
   ]
  },
  {
   "cell_type": "code",
   "execution_count": 2,
   "id": "a7296c55-a3a2-4a7d-b125-aaa71c449d42",
   "metadata": {},
   "outputs": [],
   "source": [
    "from pinecone import Pinecone, ServerlessSpec, PodSpec\n",
    "from dotenv import load_dotenv\n",
    "import os"
   ]
  },
  {
   "cell_type": "code",
   "execution_count": 3,
   "id": "8c928dd9-782f-446c-9676-d2b920802259",
   "metadata": {},
   "outputs": [
    {
     "data": {
      "text/plain": [
       "True"
      ]
     },
     "execution_count": 3,
     "metadata": {},
     "output_type": "execute_result"
    }
   ],
   "source": [
    "load_dotenv()"
   ]
  },
  {
   "cell_type": "code",
   "execution_count": 4,
   "id": "39b8f87a-5078-41ed-9f0a-c8d3d0b3f2e8",
   "metadata": {},
   "outputs": [],
   "source": [
    "pc = Pinecone(api_key=os.environ['API_KEY_PINECONE'])"
   ]
  },
  {
   "cell_type": "code",
   "execution_count": 6,
   "id": "c02c44cd-6cb8-485f-8d92-2713bd287375",
   "metadata": {},
   "outputs": [],
   "source": [
    "index_name = \"pinecone-index\"\n",
    "if index_name not in pc.list_indexes().names():\n",
    "    pc.create_index(\n",
    "        name=index_name,\n",
    "        dimension=2,\n",
    "        metric=\"cosine\",\n",
    "        spec=ServerlessSpec(cloud=\"aws\", region=\"us-east-1\"),\n",
    "    )"
   ]
  },
  {
   "cell_type": "code",
   "execution_count": 7,
   "id": "de139648-7693-4160-9f79-7aabcae30851",
   "metadata": {},
   "outputs": [
    {
     "data": {
      "text/plain": [
       "{'upserted_count': 3}"
      ]
     },
     "execution_count": 7,
     "metadata": {},
     "output_type": "execute_result"
    }
   ],
   "source": [
    "index = pc.Index(index_name)\n",
    "\n",
    "index.upsert(\n",
    "    vectors=[\n",
    "        {\"id\": \"vec1\", \"values\": [1.0, 1.5]},\n",
    "        {\"id\": \"vec2\", \"values\": [2.0, 1.0]},\n",
    "        {\"id\": \"vec3\", \"values\": [0.1, 3.0]},\n",
    "    ],\n",
    "    namespace=\"ns1\",\n",
    ")\n",
    "\n",
    "index.upsert(\n",
    "    vectors=[\n",
    "        {\"id\": \"vec1\", \"values\": [1.0, -2.5]},\n",
    "        {\"id\": \"vec2\", \"values\": [3.0, -2.0]},\n",
    "        {\"id\": \"vec3\", \"values\": [0.5, -1.5]},\n",
    "    ],\n",
    "    namespace=\"ns2\",\n",
    ")"
   ]
  },
  {
   "cell_type": "code",
   "execution_count": 8,
   "id": "c658feb8-dee0-4a51-b7ab-8da8c01419e4",
   "metadata": {},
   "outputs": [
    {
     "name": "stdout",
     "output_type": "stream",
     "text": [
      "{'dimension': 2,\n",
      " 'index_fullness': 0.0,\n",
      " 'namespaces': {'ns1': {'vector_count': 3}, 'ns2': {'vector_count': 3}},\n",
      " 'total_vector_count': 6}\n"
     ]
    }
   ],
   "source": [
    "print(index.describe_index_stats())"
   ]
  },
  {
   "cell_type": "code",
   "execution_count": 9,
   "id": "11db584e-502f-45e0-b110-ebc4177b7d67",
   "metadata": {},
   "outputs": [
    {
     "name": "stdout",
     "output_type": "stream",
     "text": [
      "{'matches': [{'id': 'vec1', 'score': 1.0, 'values': [1.0, 1.5]},\n",
      "             {'id': 'vec2', 'score': 0.868243158, 'values': [2.0, 1.0]},\n",
      "             {'id': 'vec3', 'score': 0.850068152, 'values': [0.1, 3.0]}],\n",
      " 'namespace': 'ns1',\n",
      " 'usage': {'read_units': 6}}\n"
     ]
    }
   ],
   "source": [
    "query_results1 = index.query(\n",
    "    namespace=\"ns1\", vector=[1.0, 1.5], top_k=3, include_values=True\n",
    ")\n",
    "\n",
    "print(query_results1)"
   ]
  },
  {
   "cell_type": "code",
   "execution_count": 11,
   "id": "9f96f414-ba6a-4886-8c16-3b31168bbe72",
   "metadata": {},
   "outputs": [],
   "source": [
    "pc.delete_index(name=index_name)"
   ]
  }
 ],
 "metadata": {
  "kernelspec": {
   "display_name": "Python 3 (ipykernel)",
   "language": "python",
   "name": "python3"
  },
  "language_info": {
   "codemirror_mode": {
    "name": "ipython",
    "version": 3
   },
   "file_extension": ".py",
   "mimetype": "text/x-python",
   "name": "python",
   "nbconvert_exporter": "python",
   "pygments_lexer": "ipython3",
   "version": "3.11.5"
  }
 },
 "nbformat": 4,
 "nbformat_minor": 5
}
