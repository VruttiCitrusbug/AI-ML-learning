{
 "cells": [
  {
   "cell_type": "code",
   "execution_count": null,
   "id": "b63f3817-c914-440d-98ac-15f487a88c53",
   "metadata": {},
   "outputs": [],
   "source": []
  }
 ],
 "metadata": {
  "kernelspec": {
   "display_name": "",
   "name": ""
  },
  "language_info": {
   "name": ""
  }
 },
 "nbformat": 4,
 "nbformat_minor": 5
}
