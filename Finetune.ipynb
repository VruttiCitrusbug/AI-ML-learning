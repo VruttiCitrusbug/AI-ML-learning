{
 "cells": [
  {
   "cell_type": "code",
   "execution_count": 3,
   "id": "e6243498-c9f1-43bf-b835-bb7a851e869c",
   "metadata": {},
   "outputs": [],
   "source": [
    "import openai\n",
    "import pandas as pd\n",
    "import os"
   ]
  },
  {
   "cell_type": "code",
   "execution_count": 4,
   "id": "d8eabad9-27ef-47a5-b4d6-0ce0281f03cd",
   "metadata": {},
   "outputs": [],
   "source": [
    "openai.api_key = os.environ['GPT_OPEN_AI_KEY']"
   ]
  },
  {
   "cell_type": "code",
   "execution_count": 5,
   "id": "e3dfe51b-976a-4d01-b6a3-8812fccda2de",
   "metadata": {},
   "outputs": [],
   "source": [
    "def prepare_dataset():\n",
    "    # Example dataset\n",
    "    data = [\n",
    "        {\"prompt\": \"User: Hi, how can I reset my password?\\nAssistant:\", \"completion\": \" You can reset your password by going to the settings page and clicking on 'Forgot Password'.\"},\n",
    "        {\"prompt\": \"User: What are your business hours?\\nAssistant:\", \"completion\": \" Our business hours are Monday to Friday, 9 AM to 5 PM.\"},\n",
    "        # Add more examples as needed\n",
    "    ]\n",
    "    return data"
   ]
  },
  {
   "cell_type": "code",
   "execution_count": 6,
   "id": "775f21f6-c7a1-4b4b-add0-0be646f8de59",
   "metadata": {},
   "outputs": [],
   "source": [
    "# Step 2: Fine-tune the model\n",
    "def fine_tune_model(training_data):\n",
    "    response = openai.FineTune.create(\n",
    "        training_file=training_data,\n",
    "        model=\"davinci\",  # Choose the model variant\n",
    "        n_epochs=4,\n",
    "        batch_size=4,\n",
    "        learning_rate_multiplier=0.1,\n",
    "        prompt_loss_weight=0.1,\n",
    "        compute_classification_metrics=False\n",
    "    )\n",
    "    return response"
   ]
  },
  {
   "cell_type": "code",
   "execution_count": 7,
   "id": "a330eade-8025-4733-8572-890db35711b3",
   "metadata": {},
   "outputs": [],
   "source": [
    "# Step 3: Evaluate the model\n",
    "def evaluate_model(model_id, test_data):\n",
    "    results = []\n",
    "    for test in test_data:\n",
    "        response = openai.Completion.create(\n",
    "            model=model_id,\n",
    "            prompt=test['prompt'],\n",
    "            max_tokens=50,\n",
    "            temperature=0.7,\n",
    "            stop=[\"\\n\"]\n",
    "        )\n",
    "        result = {\n",
    "            'prompt': test['prompt'],\n",
    "            'expected': test['completion'],\n",
    "            'generated': response.choices[0].text.strip()\n",
    "        }\n",
    "        results.append(result)\n",
    "    return results"
   ]
  },
  {
   "cell_type": "code",
   "execution_count": 8,
   "id": "4f055110-43d8-4a0a-8ff0-0c9a8157e30a",
   "metadata": {},
   "outputs": [],
   "source": [
    "# Step 4: Deploy and monitor the model\n",
    "def deploy_model(model_id):\n",
    "    # Deployment will depend on the specific application platform\n",
    "    # Here we simulate the deployment by using the model in a chat function\n",
    "    def chat(prompt):\n",
    "        response = openai.Completion.create(\n",
    "            model=model_id,\n",
    "            prompt=prompt,\n",
    "            max_tokens=50,\n",
    "            temperature=0.7,\n",
    "            stop=[\"\\n\"]\n",
    "        )\n",
    "        return response.choices[0].text.strip()\n",
    "\n",
    "    return chat"
   ]
  },
  {
   "cell_type": "code",
   "execution_count": 9,
   "id": "0b25d26e-b263-4498-9834-b8e793c83a53",
   "metadata": {},
   "outputs": [
    {
     "ename": "APIRemovedInV1",
     "evalue": "\n\nYou tried to access openai.FineTune, but this is no longer supported in openai>=1.0.0 - see the README at https://github.com/openai/openai-python for the API.\n\nYou can run `openai migrate` to automatically upgrade your codebase to use the 1.0.0 interface. \n\nAlternatively, you can pin your installation to the old version, e.g. `pip install openai==0.28`\n\nA detailed migration guide is available here: https://github.com/openai/openai-python/discussions/742\n",
     "output_type": "error",
     "traceback": [
      "\u001b[1;31m---------------------------------------------------------------------------\u001b[0m",
      "\u001b[1;31mAPIRemovedInV1\u001b[0m                            Traceback (most recent call last)",
      "Cell \u001b[1;32mIn[9], line 9\u001b[0m\n\u001b[0;32m      6\u001b[0m df\u001b[38;5;241m.\u001b[39mto_csv(\u001b[38;5;124m'\u001b[39m\u001b[38;5;124mtraining_data.csv\u001b[39m\u001b[38;5;124m'\u001b[39m, index\u001b[38;5;241m=\u001b[39m\u001b[38;5;28;01mFalse\u001b[39;00m)\n\u001b[0;32m      8\u001b[0m \u001b[38;5;66;03m# Step 2: Fine-tune the model\u001b[39;00m\n\u001b[1;32m----> 9\u001b[0m fine_tune_response \u001b[38;5;241m=\u001b[39m \u001b[43mfine_tune_model\u001b[49m\u001b[43m(\u001b[49m\u001b[38;5;124;43m'\u001b[39;49m\u001b[38;5;124;43mtraining_data.csv\u001b[39;49m\u001b[38;5;124;43m'\u001b[39;49m\u001b[43m)\u001b[49m\n\u001b[0;32m     10\u001b[0m model_id \u001b[38;5;241m=\u001b[39m fine_tune_response[\u001b[38;5;124m'\u001b[39m\u001b[38;5;124mid\u001b[39m\u001b[38;5;124m'\u001b[39m]\n\u001b[0;32m     12\u001b[0m \u001b[38;5;66;03m# Wait for the fine-tuning to complete\u001b[39;00m\n",
      "Cell \u001b[1;32mIn[6], line 3\u001b[0m, in \u001b[0;36mfine_tune_model\u001b[1;34m(training_data)\u001b[0m\n\u001b[0;32m      2\u001b[0m \u001b[38;5;28;01mdef\u001b[39;00m \u001b[38;5;21mfine_tune_model\u001b[39m(training_data):\n\u001b[1;32m----> 3\u001b[0m     response \u001b[38;5;241m=\u001b[39m \u001b[43mopenai\u001b[49m\u001b[38;5;241;43m.\u001b[39;49m\u001b[43mFineTune\u001b[49m\u001b[38;5;241;43m.\u001b[39;49m\u001b[43mcreate\u001b[49m\u001b[43m(\u001b[49m\n\u001b[0;32m      4\u001b[0m \u001b[43m        \u001b[49m\u001b[43mtraining_file\u001b[49m\u001b[38;5;241;43m=\u001b[39;49m\u001b[43mtraining_data\u001b[49m\u001b[43m,\u001b[49m\n\u001b[0;32m      5\u001b[0m \u001b[43m        \u001b[49m\u001b[43mmodel\u001b[49m\u001b[38;5;241;43m=\u001b[39;49m\u001b[38;5;124;43m\"\u001b[39;49m\u001b[38;5;124;43mdavinci\u001b[39;49m\u001b[38;5;124;43m\"\u001b[39;49m\u001b[43m,\u001b[49m\u001b[43m  \u001b[49m\u001b[38;5;66;43;03m# Choose the model variant\u001b[39;49;00m\n\u001b[0;32m      6\u001b[0m \u001b[43m        \u001b[49m\u001b[43mn_epochs\u001b[49m\u001b[38;5;241;43m=\u001b[39;49m\u001b[38;5;241;43m4\u001b[39;49m\u001b[43m,\u001b[49m\n\u001b[0;32m      7\u001b[0m \u001b[43m        \u001b[49m\u001b[43mbatch_size\u001b[49m\u001b[38;5;241;43m=\u001b[39;49m\u001b[38;5;241;43m4\u001b[39;49m\u001b[43m,\u001b[49m\n\u001b[0;32m      8\u001b[0m \u001b[43m        \u001b[49m\u001b[43mlearning_rate_multiplier\u001b[49m\u001b[38;5;241;43m=\u001b[39;49m\u001b[38;5;241;43m0.1\u001b[39;49m\u001b[43m,\u001b[49m\n\u001b[0;32m      9\u001b[0m \u001b[43m        \u001b[49m\u001b[43mprompt_loss_weight\u001b[49m\u001b[38;5;241;43m=\u001b[39;49m\u001b[38;5;241;43m0.1\u001b[39;49m\u001b[43m,\u001b[49m\n\u001b[0;32m     10\u001b[0m \u001b[43m        \u001b[49m\u001b[43mcompute_classification_metrics\u001b[49m\u001b[38;5;241;43m=\u001b[39;49m\u001b[38;5;28;43;01mFalse\u001b[39;49;00m\n\u001b[0;32m     11\u001b[0m \u001b[43m    \u001b[49m\u001b[43m)\u001b[49m\n\u001b[0;32m     12\u001b[0m     \u001b[38;5;28;01mreturn\u001b[39;00m response\n",
      "File \u001b[1;32mC:\\Projects\\AI-ML-learning\\venv\\Lib\\site-packages\\openai\\lib\\_old_api.py:39\u001b[0m, in \u001b[0;36mAPIRemovedInV1Proxy.__call__\u001b[1;34m(self, *_args, **_kwargs)\u001b[0m\n\u001b[0;32m     38\u001b[0m \u001b[38;5;28;01mdef\u001b[39;00m \u001b[38;5;21m__call__\u001b[39m(\u001b[38;5;28mself\u001b[39m, \u001b[38;5;241m*\u001b[39m_args: Any, \u001b[38;5;241m*\u001b[39m\u001b[38;5;241m*\u001b[39m_kwargs: Any) \u001b[38;5;241m-\u001b[39m\u001b[38;5;241m>\u001b[39m Any:\n\u001b[1;32m---> 39\u001b[0m     \u001b[38;5;28;01mraise\u001b[39;00m APIRemovedInV1(symbol\u001b[38;5;241m=\u001b[39m\u001b[38;5;28mself\u001b[39m\u001b[38;5;241m.\u001b[39m_symbol)\n",
      "\u001b[1;31mAPIRemovedInV1\u001b[0m: \n\nYou tried to access openai.FineTune, but this is no longer supported in openai>=1.0.0 - see the README at https://github.com/openai/openai-python for the API.\n\nYou can run `openai migrate` to automatically upgrade your codebase to use the 1.0.0 interface. \n\nAlternatively, you can pin your installation to the old version, e.g. `pip install openai==0.28`\n\nA detailed migration guide is available here: https://github.com/openai/openai-python/discussions/742\n"
     ]
    }
   ],
   "source": [
    "# Step 1: Prepare the dataset\n",
    "training_data = prepare_dataset()\n",
    "\n",
    "# Convert training data to pandas DataFrame and save as CSV (for upload to OpenAI)\n",
    "df = pd.DataFrame(training_data)\n",
    "df.to_csv('training_data.csv', index=False)\n",
    "\n",
    "# Step 2: Fine-tune the model\n",
    "fine_tune_response = fine_tune_model('training_data.csv')\n",
    "model_id = fine_tune_response['id']\n",
    "\n",
    "# Wait for the fine-tuning to complete\n",
    "import time\n",
    "while True:\n",
    "    status = openai.FineTune.retrieve(model_id)\n",
    "    if status['status'] == 'succeeded':\n",
    "        break\n",
    "    elif status['status'] == 'failed':\n",
    "        raise Exception(\"Fine-tuning failed\")\n",
    "    time.sleep(60)  # Wait for 1 minute before checking again\n",
    "\n",
    "# Step 3: Evaluate the model\n",
    "test_data = prepare_dataset()  # In a real scenario, this should be a separate test dataset\n",
    "evaluation_results = evaluate_model(model_id, test_data)\n",
    "for result in evaluation_results:\n",
    "    print(f\"Prompt: {result['prompt']}\")\n",
    "    print(f\"Expected: {result['expected']}\")\n",
    "    print(f\"Generated: {result['generated']}\\n\")\n",
    "\n",
    "# Step 4: Deploy the model\n",
    "chat = deploy_model(model_id)\n",
    "while True:\n",
    "    user_input = input(\"User: \")\n",
    "    if user_input.lower() in ['exit', 'quit']:\n",
    "        break\n",
    "    response = chat(f\"User: {user_input}\\nAssistant:\")\n",
    "    print(f\"Assistant: {response}\")"
   ]
  },
  {
   "cell_type": "code",
   "execution_count": null,
   "id": "da754614-e081-440b-b5f8-5ac0a2cb9bb5",
   "metadata": {},
   "outputs": [],
   "source": []
  }
 ],
 "metadata": {
  "kernelspec": {
   "display_name": "Python 3 (ipykernel)",
   "language": "python",
   "name": "python3"
  },
  "language_info": {
   "codemirror_mode": {
    "name": "ipython",
    "version": 3
   },
   "file_extension": ".py",
   "mimetype": "text/x-python",
   "name": "python",
   "nbconvert_exporter": "python",
   "pygments_lexer": "ipython3",
   "version": "3.11.5"
  }
 },
 "nbformat": 4,
 "nbformat_minor": 5
}
