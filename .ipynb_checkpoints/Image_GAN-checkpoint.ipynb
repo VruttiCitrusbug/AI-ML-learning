{
 "cells": [
  {
   "cell_type": "code",
   "execution_count": null,
   "id": "2e59e78f-15a7-4a76-a22a-6c3f5b77e36f",
   "metadata": {},
   "outputs": [],
   "source": [
    "import tensorflow as tf\n",
    "from tensorflow.keras import layers, models, datasets, optimizers\n",
    "\n",
    "# Define the generator\n",
    "generator = models.Sequential([\n",
    "    layers.Dense(7*7*256, use_bias=False, input_shape=(100,)),\n",
    "    layers.BatchNormalization(),\n",
    "    layers.LeakyReLU(),\n",
    "    layers.Reshape((7, 7, 256)),\n",
    "    layers.Conv2DTranspose(128, (5, 5), strides=(1, 1), padding='same', use_bias=False),\n",
    "    layers.BatchNormalization(),\n",
    "    layers.LeakyReLU(),\n",
    "    layers.Conv2DTranspose(64, (5, 5), strides=(2, 2), padding='same', use_bias=False),\n",
    "    layers.BatchNormalization(),\n",
    "    layers.LeakyReLU(),\n",
    "    layers.Conv2DTranspose(1, (5, 5), strides=(2, 2), padding='same', use_bias=False, activation='tanh')\n",
    "])\n",
    "\n",
    "# Define the discriminator\n",
    "discriminator = models.Sequential([\n",
    "    layers.Conv2D(64, (5, 5), strides=(2, 2), padding='same', input_shape=[28, 28, 1]),\n",
    "    layers.LeakyReLU(),\n",
    "    layers.Dropout(0.3),\n",
    "    layers.Conv2D(128, (5, 5), strides=(2, 2), padding='same'),\n",
    "    layers.LeakyReLU(),\n",
    "    layers.Dropout(0.3),\n",
    "    layers.Flatten(),\n",
    "    layers.Dense(1, activation='sigmoid')\n",
    "])"
   ]
  },
  {
   "cell_type": "code",
   "execution_count": null,
   "id": "1054fa97-8145-4ec8-ae08-2d9e02129ebd",
   "metadata": {},
   "outputs": [],
   "source": [
    "# Compile the discriminator\n",
    "discriminator.compile(loss='binary_crossentropy', optimizer=optimizers.Adam(learning_rate=0.0002, beta_1=0.5), metrics=['accuracy'])"
   ]
  },
  {
   "cell_type": "code",
   "execution_count": null,
   "id": "36eb5972-8792-4f86-b71e-2fca4bd9095a",
   "metadata": {},
   "outputs": [],
   "source": [
    "# Create the GAN\n",
    "discriminator.trainable = False  # Set the discriminator to be non-trainable to the GAN\n",
    "gan_input = tf.keras.Input(shape=(100,))\n",
    "generated_image = generator(gan_input)\n",
    "gan_output = discriminator(generated_image)\n",
    "gan = tf.keras.models.Model(gan_input, gan_output)"
   ]
  },
  {
   "cell_type": "code",
   "execution_count": null,
   "id": "adc00590-4d96-4f39-ac41-5bff3704f41e",
   "metadata": {},
   "outputs": [],
   "source": [
    "\n",
    "# Compile the GAN\n",
    "gan.compile(loss='binary_crossentropy', optimizer=optimizers.Adam(learning_rate=0.0002, beta_1=0.5))"
   ]
  },
  {
   "cell_type": "code",
   "execution_count": null,
   "id": "82c9eadc-6918-4805-8679-01647ce901a5",
   "metadata": {},
   "outputs": [],
   "source": [
    "\n",
    "# Load and preprocess the MNIST dataset\n",
    "(x_train, _), (_, _) = datasets.mnist.load_data()\n",
    "x_train = x_train.reshape(x_train.shape[0], 28, 28, 1).astype('float32')\n",
    "x_train = (x_train - 127.5) / 127.5  # Normalize the images to [-1, 1]"
   ]
  },
  {
   "cell_type": "code",
   "execution_count": null,
   "id": "b5732583-4938-43f7-abc3-e5076a5b5b2d",
   "metadata": {},
   "outputs": [],
   "source": [
    "# Training the GAN\n",
    "batch_size = 256\n",
    "iterations = 20000\n",
    "for iteration in range(iterations):\n",
    "    noise = tf.random.normal([batch_size, 100])\n",
    "    generated_images = generator.predict(noise)\n",
    "    real_images = x_train[np.random.randint(0, x_train.shape[0], batch_size)]\n",
    "    x = tf.concat([real_images, generated_images], axis=0)\n",
    "    y_dis = tf.concat([tf.ones((batch_size, 1)), tf.zeros((batch_size, 1))], axis=0)\n",
    "    discriminator.trainable = True\n",
    "    d_loss = discriminator.train_on_batch(x, y_dis)\n",
    "    noise = tf.random.normal([batch_size, 100])\n",
    "    y_gen = tf.ones((batch_size, 1))\n",
    "    discriminator.trainable = False\n",
    "    g_loss = gan.train_on_batch(noise, y_gen)\n",
    "    if iteration % 1000 == 0:\n",
    "        print(f\"Iteration: {iteration} | Discriminator Loss: {d_loss[0]}, Generator Loss: {g_loss}\")"
   ]
  },
  {
   "cell_type": "code",
   "execution_count": null,
   "id": "81d16794-1840-4444-b9f0-6041a2c53aed",
   "metadata": {},
   "outputs": [],
   "source": [
    "# Generate new images using the trained generator\n",
    "import matplotlib.pyplot as plt\n",
    "noise = tf.random.normal([1, 100])\n",
    "generated_image = generator.predict(noise)\n",
    "plt.imshow(generated_image[0, :, :, 0], cmap='gray')\n",
    "plt.axis('off')\n",
    "plt.show()"
   ]
  }
 ],
 "metadata": {
  "kernelspec": {
   "display_name": "Python 3 (ipykernel)",
   "language": "python",
   "name": "python3"
  },
  "language_info": {
   "codemirror_mode": {
    "name": "ipython",
    "version": 3
   },
   "file_extension": ".py",
   "mimetype": "text/x-python",
   "name": "python",
   "nbconvert_exporter": "python",
   "pygments_lexer": "ipython3",
   "version": "3.11.5"
  }
 },
 "nbformat": 4,
 "nbformat_minor": 5
}
