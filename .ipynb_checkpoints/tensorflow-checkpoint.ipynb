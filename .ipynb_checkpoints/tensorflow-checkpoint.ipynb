{
 "cells": [
  {
   "cell_type": "code",
   "execution_count": 1,
   "id": "70bbe98b-1c1c-42ea-9482-24c9c55b5bfb",
   "metadata": {},
   "outputs": [],
   "source": [
    "import tensorflow as tf"
   ]
  },
  {
   "cell_type": "code",
   "execution_count": 3,
   "id": "64cb7fcb-6c22-4605-b94e-c687156fe31a",
   "metadata": {},
   "outputs": [
    {
     "name": "stdout",
     "output_type": "stream",
     "text": [
      "2.16.1\n"
     ]
    }
   ],
   "source": [
    "print(tf.__version__)"
   ]
  },
  {
   "cell_type": "code",
   "execution_count": 4,
   "id": "a0f7eb30-3967-4fd7-8f40-bb4052399d3c",
   "metadata": {},
   "outputs": [
    {
     "name": "stdout",
     "output_type": "stream",
     "text": [
      "tf.Tensor(10, shape=(), dtype=int32) tf.Tensor(3.14, shape=(), dtype=float32) tf.Tensor(b'hello all', shape=(), dtype=string) tf.Tensor(True, shape=(), dtype=bool)\n"
     ]
    }
   ],
   "source": [
    "#constant\n",
    "con1 = tf.constant(10)\n",
    "con2 = tf.constant(3.14)\n",
    "con3 = tf.constant('hello all')\n",
    "con4 = tf.constant(True)\n",
    "print(con1,con2,con3,con4)"
   ]
  },
  {
   "cell_type": "code",
   "execution_count": 5,
   "id": "838f4cd8-d556-4787-b31c-97daa41a00d7",
   "metadata": {},
   "outputs": [],
   "source": [
    "A = tf.constant([[4,3],[6,1]])"
   ]
  },
  {
   "cell_type": "code",
   "execution_count": 6,
   "id": "277b3995-a9bd-453c-81b4-9d093334fcc9",
   "metadata": {},
   "outputs": [
    {
     "data": {
      "text/plain": [
       "<tf.Tensor: shape=(2, 2), dtype=int32, numpy=\n",
       "array([[4, 3],\n",
       "       [6, 1]])>"
      ]
     },
     "execution_count": 6,
     "metadata": {},
     "output_type": "execute_result"
    }
   ],
   "source": [
    "A"
   ]
  },
  {
   "cell_type": "code",
   "execution_count": 13,
   "id": "b488f888-8fde-45b0-9a6b-5ad756e6ac35",
   "metadata": {},
   "outputs": [
    {
     "name": "stdout",
     "output_type": "stream",
     "text": [
      "<tf.Variable 'Variable:0' shape=(2, 2) dtype=int32, numpy=\n",
      "array([[4, 3],\n",
      "       [6, 1]])>\n"
     ]
    },
    {
     "data": {
      "text/plain": [
       "<tf.Tensor: shape=(2, 2), dtype=int32, numpy=\n",
       "array([[7, 8],\n",
       "       [4, 5]])>"
      ]
     },
     "execution_count": 13,
     "metadata": {},
     "output_type": "execute_result"
    }
   ],
   "source": [
    "V = tf.Variable([[4,3],[6,1]])\n",
    "print(V)\n",
    "B = tf.constant([[7,8],[4,5]])\n",
    "B"
   ]
  },
  {
   "cell_type": "code",
   "execution_count": 14,
   "id": "12b6cba9-513d-4af2-9987-ada521a8e847",
   "metadata": {},
   "outputs": [
    {
     "data": {
      "text/plain": [
       "<tf.Tensor: shape=(2, 4), dtype=int32, numpy=\n",
       "array([[4, 3, 7, 8],\n",
       "       [6, 1, 4, 5]])>"
      ]
     },
     "execution_count": 14,
     "metadata": {},
     "output_type": "execute_result"
    }
   ],
   "source": [
    "concated = tf.concat(values=[A,B], axis=1)\n",
    "concated"
   ]
  },
  {
   "cell_type": "code",
   "execution_count": 15,
   "id": "323976f7-09ab-4798-8370-5d7ee8a3e35f",
   "metadata": {},
   "outputs": [
    {
     "data": {
      "text/plain": [
       "<tf.Tensor: shape=(4, 2), dtype=int32, numpy=\n",
       "array([[4, 3],\n",
       "       [6, 1],\n",
       "       [7, 8],\n",
       "       [4, 5]])>"
      ]
     },
     "execution_count": 15,
     "metadata": {},
     "output_type": "execute_result"
    }
   ],
   "source": [
    "concated = tf.concat(values=[A,B], axis=0)\n",
    "concated"
   ]
  },
  {
   "cell_type": "code",
   "execution_count": null,
   "id": "9cfe357f-2c20-49ec-bba4-9eea778048b7",
   "metadata": {},
   "outputs": [],
   "source": []
  }
 ],
 "metadata": {
  "kernelspec": {
   "display_name": "Python 3 (ipykernel)",
   "language": "python",
   "name": "python3"
  },
  "language_info": {
   "codemirror_mode": {
    "name": "ipython",
    "version": 3
   },
   "file_extension": ".py",
   "mimetype": "text/x-python",
   "name": "python",
   "nbconvert_exporter": "python",
   "pygments_lexer": "ipython3",
   "version": "3.11.5"
  }
 },
 "nbformat": 4,
 "nbformat_minor": 5
}
