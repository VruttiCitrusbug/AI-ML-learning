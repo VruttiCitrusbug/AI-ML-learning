{
 "cells": [
  {
   "cell_type": "code",
   "execution_count": 2,
   "id": "9de8787c-cecf-4ad2-9690-7740c1ae7379",
   "metadata": {},
   "outputs": [
    {
     "data": {
      "text/html": [
       "<div>\n",
       "<style scoped>\n",
       "    .dataframe tbody tr th:only-of-type {\n",
       "        vertical-align: middle;\n",
       "    }\n",
       "\n",
       "    .dataframe tbody tr th {\n",
       "        vertical-align: top;\n",
       "    }\n",
       "\n",
       "    .dataframe thead th {\n",
       "        text-align: right;\n",
       "    }\n",
       "</style>\n",
       "<table border=\"1\" class=\"dataframe\">\n",
       "  <thead>\n",
       "    <tr style=\"text-align: right;\">\n",
       "      <th></th>\n",
       "      <th>Topic</th>\n",
       "      <th>Question</th>\n",
       "      <th>Answer</th>\n",
       "    </tr>\n",
       "  </thead>\n",
       "  <tbody>\n",
       "    <tr>\n",
       "      <th>0</th>\n",
       "      <td>Topic 1</td>\n",
       "      <td>What is the best way to improve productivity a...</td>\n",
       "      <td>Improving productivity at work can involve str...</td>\n",
       "    </tr>\n",
       "    <tr>\n",
       "      <th>1</th>\n",
       "      <td>Topic 1</td>\n",
       "      <td>How can I manage my time better during work ho...</td>\n",
       "      <td>Managing time effectively involves creating a ...</td>\n",
       "    </tr>\n",
       "    <tr>\n",
       "      <th>2</th>\n",
       "      <td>Topic 1</td>\n",
       "      <td>Is multitasking an effective way to increase p...</td>\n",
       "      <td>While multitasking may seem efficient, it ofte...</td>\n",
       "    </tr>\n",
       "    <tr>\n",
       "      <th>3</th>\n",
       "      <td>Topic 1</td>\n",
       "      <td>What are some tips for avoiding procrastinatio...</td>\n",
       "      <td>To avoid procrastination, try breaking tasks i...</td>\n",
       "    </tr>\n",
       "    <tr>\n",
       "      <th>4</th>\n",
       "      <td>Topic 1</td>\n",
       "      <td>How can I maintain work-life balance while bei...</td>\n",
       "      <td>Maintaining work-life balance involves setting...</td>\n",
       "    </tr>\n",
       "  </tbody>\n",
       "</table>\n",
       "</div>"
      ],
      "text/plain": [
       "     Topic                                           Question  \\\n",
       "0  Topic 1  What is the best way to improve productivity a...   \n",
       "1  Topic 1  How can I manage my time better during work ho...   \n",
       "2  Topic 1  Is multitasking an effective way to increase p...   \n",
       "3  Topic 1  What are some tips for avoiding procrastinatio...   \n",
       "4  Topic 1  How can I maintain work-life balance while bei...   \n",
       "\n",
       "                                              Answer  \n",
       "0  Improving productivity at work can involve str...  \n",
       "1  Managing time effectively involves creating a ...  \n",
       "2  While multitasking may seem efficient, it ofte...  \n",
       "3  To avoid procrastination, try breaking tasks i...  \n",
       "4  Maintaining work-life balance involves setting...  "
      ]
     },
     "execution_count": 2,
     "metadata": {},
     "output_type": "execute_result"
    }
   ],
   "source": [
    "import pandas as pd\n",
    "\n",
    "# Load the CSV file\n",
    "topic = pd.read_csv('topic.csv')\n",
    "\n",
    "# Display the first few rows of the dataframe to ensure it's loaded correctly\n",
    "topic.head()"
   ]
  },
  {
   "cell_type": "code",
   "execution_count": 3,
   "id": "7c2777b9-9bf2-4120-b14b-504bc1ca1293",
   "metadata": {},
   "outputs": [],
   "source": [
    "from collections import Counter"
   ]
  },
  {
   "cell_type": "code",
   "execution_count": 4,
   "id": "7e393614-1789-401b-8ede-7c33e025745e",
   "metadata": {},
   "outputs": [],
   "source": [
    "def get_top_faqs(df, n=1):\n",
    "    top_faqs = {}\n",
    "    for topic_id in df['Topic'].unique():\n",
    "        topic_data = df[df['Topic'] == topic_id]\n",
    "        question_counter = Counter(topic_data['Question'])\n",
    "        top_questions = question_counter.most_common(n)\n",
    "        top_faqs[topic_id] = [(q, topic_data[topic_data['Question'] == q]['Answer'].iloc[0]) for q, count in top_questions]\n",
    "    return top_faqs"
   ]
  },
  {
   "cell_type": "code",
   "execution_count": 6,
   "id": "da0b2779-d363-4a2a-9e9f-1d9a1bc3ce81",
   "metadata": {},
   "outputs": [],
   "source": [
    "top_faqs = get_top_faqs(topic)"
   ]
  },
  {
   "cell_type": "code",
   "execution_count": 7,
   "id": "17833188-a02c-47a0-8057-deab71e4d4f3",
   "metadata": {},
   "outputs": [
    {
     "data": {
      "text/plain": [
       "[('What is the best way to improve productivity at work?',\n",
       "  'Improving productivity at work can involve strategies such as time management techniques, setting clear goals, prioritizing tasks, minimizing distractions, and taking regular breaks to stay refreshed.')]"
      ]
     },
     "execution_count": 7,
     "metadata": {},
     "output_type": "execute_result"
    }
   ],
   "source": [
    "top_faqs[list(top_faqs.keys())[0]]"
   ]
  }
 ],
 "metadata": {
  "kernelspec": {
   "display_name": "Python 3 (ipykernel)",
   "language": "python",
   "name": "python3"
  },
  "language_info": {
   "codemirror_mode": {
    "name": "ipython",
    "version": 3
   },
   "file_extension": ".py",
   "mimetype": "text/x-python",
   "name": "python",
   "nbconvert_exporter": "python",
   "pygments_lexer": "ipython3",
   "version": "3.11.5"
  }
 },
 "nbformat": 4,
 "nbformat_minor": 5
}
